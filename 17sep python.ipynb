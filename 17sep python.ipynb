{
 "cells": [
  {
   "cell_type": "code",
   "execution_count": null,
   "id": "d3e245ea-ee9d-453e-8ea8-01c1dae26a2f",
   "metadata": {},
   "outputs": [],
   "source": [
    "For Loop :-\n",
    "\n",
    "1.Write a Python program to print numbers from 1 to 10 using a for loop.\n"
   ]
  },
  {
   "cell_type": "code",
   "execution_count": 1,
   "id": "254f31ff-ea1a-425c-a87c-ce8a8613a69c",
   "metadata": {
    "tags": []
   },
   "outputs": [
    {
     "name": "stdout",
     "output_type": "stream",
     "text": [
      "1\n",
      "2\n",
      "3\n",
      "4\n",
      "5\n",
      "6\n",
      "7\n",
      "8\n",
      "9\n",
      "10\n"
     ]
    }
   ],
   "source": [
    "for number in range(1, 11):\n",
    "    print(number)\n"
   ]
  },
  {
   "cell_type": "code",
   "execution_count": null,
   "id": "40bbf88a-cf2b-41e5-b63d-12ac3ba9103f",
   "metadata": {},
   "outputs": [],
   "source": [
    "#2Explain the difference between a for loop and a while loop in Python\n",
    "For Loop:\n",
    "Syntax:\n",
    "for variable in iterable:\n",
    "    # code to be executed\n",
    "Use Case:\n",
    "\n",
    "Ideal for iterating over a sequence (e.g., list, tuple, string, range) or any iterable object.\n",
    "The loop iterates over each element of the iterable.\n",
    "Example:\n",
    "for num in range(1, 5):\n",
    "    print(num)\n",
    "Termination:\n",
    "\n",
    "The loop runs until it exhausts all elements in the iterable.\n",
    "While Loop:\n",
    "Syntax:\n",
    "while condition:\n",
    "    # code to be executed\n",
    "Use Case:\n",
    "\n",
    "Suitable when the number of iterations is not known in advance, and the loop should continue until a certain condition is met.\n",
    "The loop keeps executing as long as the specified condition is True.\n",
    "Example:\n",
    "\n",
    "count = 1\n",
    "while count <= 5:\n",
    "    print(count)\n",
    "    count += 1\n",
    "Termination:\n",
    "\n",
    "The loop runs until the specified condition becomes False.\n",
    "There should be a mechanism within the loop to modify the variables involved in the condition to eventually make it False and exit the loop.\n",
    "Key Differences:\n",
    "Initialization:\n",
    "\n",
    "In a for loop, you directly iterate over elements in an iterable.\n",
    "In a while loop, you need to initialize variables before the loop and update them within the loop.\n",
    "Control Flow:\n",
    "\n",
    "for loops are more structured and used when the number of iterations is known or determined by the length of an iterable.\n",
    "while loops are more flexible and used when the termination condition is not known beforehand or depends on dynamic factors.\n",
    "Readability:\n",
    "\n",
    "for loops are generally more readable for situations where you know the number of iterations in advance.\n",
    "while loops are suitable when the number of iterations is determined by a complex condition or external factors.\n",
    "Risk of Infinite Loop:\n",
    "\n",
    "There's a higher risk of unintentional infinite loops with while loops if the termination condition is not handled carefully.\n",
    "for loops, on the other hand, are less prone to infinite loops as they iterate over a predefined sequence."
   ]
  },
  {
   "cell_type": "code",
   "execution_count": 2,
   "id": "f1413aae-b9e8-4db7-b744-c2453c3ee022",
   "metadata": {
    "tags": []
   },
   "outputs": [
    {
     "name": "stdout",
     "output_type": "stream",
     "text": [
      "Sum of numbers from 1 to 100: 5050\n"
     ]
    }
   ],
   "source": [
    "#3Write a Python program to calculate the sum of all numbers from 1 to 100 using a for loop.\n",
    "# Using a for loop to calculate the sum\n",
    "sum_result = 0\n",
    "\n",
    "for number in range(1, 101):\n",
    "    sum_result += number\n",
    "\n",
    "print(\"Sum of numbers from 1 to 100:\", sum_result)\n"
   ]
  },
  {
   "cell_type": "code",
   "execution_count": 3,
   "id": "d9e897a5-3847-463d-b928-265b6f175986",
   "metadata": {
    "tags": []
   },
   "outputs": [
    {
     "name": "stdout",
     "output_type": "stream",
     "text": [
      "1\n",
      "2\n",
      "3\n",
      "4\n",
      "5\n"
     ]
    }
   ],
   "source": [
    "#4How do you iterate through a list using a for loop in Python?\n",
    "my_list = [1, 2, 3, 4, 5]\n",
    "\n",
    "# Using a for loop to iterate through the list\n",
    "for element in my_list:\n",
    "    print(element)\n"
   ]
  },
  {
   "cell_type": "code",
   "execution_count": 4,
   "id": "384ef4bd-b59c-4ee9-a883-6de7972a408a",
   "metadata": {
    "tags": []
   },
   "outputs": [
    {
     "name": "stdout",
     "output_type": "stream",
     "text": [
      "Product of elements in the list: 120\n"
     ]
    }
   ],
   "source": [
    "#5Write a Python program to find the product of all elements in a list using a for loop.\n",
    "# Function to find the product of all elements in a list\n",
    "def find_product(lst):\n",
    "    product_result = 1\n",
    "\n",
    "    for element in lst:\n",
    "        product_result *= element\n",
    "\n",
    "    return product_result\n",
    "\n",
    "# Example usage\n",
    "my_list = [2, 3, 4, 5]\n",
    "result = find_product(my_list)\n",
    "\n",
    "print(\"Product of elements in the list:\", result)\n"
   ]
  },
  {
   "cell_type": "code",
   "execution_count": 5,
   "id": "f948db18-ee56-4eb8-9c76-7f97024783ad",
   "metadata": {
    "tags": []
   },
   "outputs": [
    {
     "name": "stdout",
     "output_type": "stream",
     "text": [
      "2\n",
      "4\n",
      "6\n",
      "8\n",
      "10\n",
      "12\n",
      "14\n",
      "16\n",
      "18\n",
      "20\n"
     ]
    }
   ],
   "source": [
    "#6Create a Python program that prints all even numbers from 1 to 20 using a for loop.\n",
    "# Using a for loop to print even numbers from 1 to 20\n",
    "for number in range(2, 21, 2):\n",
    "    print(number)\n"
   ]
  },
  {
   "cell_type": "code",
   "execution_count": 6,
   "id": "f5519c6b-8db4-4da0-9333-6118473f2b18",
   "metadata": {
    "tags": []
   },
   "outputs": [
    {
     "name": "stdin",
     "output_type": "stream",
     "text": [
      "Enter a number:  5\n"
     ]
    },
    {
     "name": "stdout",
     "output_type": "stream",
     "text": [
      "The factorial of 5 is: 120\n"
     ]
    }
   ],
   "source": [
    "#7Write a Python program that calculates the factorial of a number using a for loop.\n",
    "# Function to calculate the factorial of a number\n",
    "def calculate_factorial(number):\n",
    "    if number < 0:\n",
    "        return \"Factorial is not defined for negative numbers\"\n",
    "    elif number == 0 or number == 1:\n",
    "        return 1\n",
    "    else:\n",
    "        factorial_result = 1\n",
    "        for i in range(2, number + 1):\n",
    "            factorial_result *= i\n",
    "        return factorial_result\n",
    "\n",
    "# Example usage\n",
    "input_number = int(input(\"Enter a number: \"))\n",
    "result = calculate_factorial(input_number)\n",
    "\n",
    "print(f\"The factorial of {input_number} is: {result}\")\n"
   ]
  },
  {
   "cell_type": "code",
   "execution_count": 7,
   "id": "48b963f8-bba3-4e25-b9dc-04c0fb7f46e2",
   "metadata": {
    "tags": []
   },
   "outputs": [
    {
     "name": "stdout",
     "output_type": "stream",
     "text": [
      "H\n",
      "e\n",
      "l\n",
      "l\n",
      "o\n",
      ",\n",
      " \n",
      "W\n",
      "o\n",
      "r\n",
      "l\n",
      "d\n",
      "!\n"
     ]
    }
   ],
   "source": [
    "#8How can you iterate through the characters of a string using a for loop in Python?\n",
    "my_string = \"Hello, World!\"\n",
    "\n",
    "# Using a for loop to iterate through the characters of the string\n",
    "for char in my_string:\n",
    "    print(char)\n"
   ]
  },
  {
   "cell_type": "code",
   "execution_count": 8,
   "id": "5b47ceab-1e35-4ebe-8274-4c41ea2d7afc",
   "metadata": {
    "tags": []
   },
   "outputs": [
    {
     "name": "stdout",
     "output_type": "stream",
     "text": [
      "The largest number in the list is: 20\n"
     ]
    }
   ],
   "source": [
    "#9 Write a Python program to find the largest number in a list using a for loop.\n",
    "# Function to find the largest number in a list\n",
    "def find_largest_number(lst):\n",
    "    if not lst:\n",
    "        return \"List is empty\"\n",
    "\n",
    "    largest_number = lst[0]\n",
    "\n",
    "    for number in lst:\n",
    "        if number > largest_number:\n",
    "            largest_number = number\n",
    "\n",
    "    return largest_number\n",
    "\n",
    "# Example usage\n",
    "my_list = [10, 5, 20, 8, 15]\n",
    "result = find_largest_number(my_list)\n",
    "\n",
    "print(\"The largest number in the list is:\", result)\n"
   ]
  },
  {
   "cell_type": "code",
   "execution_count": 9,
   "id": "779797fc-ec02-47e9-808d-589e7017617e",
   "metadata": {
    "tags": []
   },
   "outputs": [
    {
     "name": "stdin",
     "output_type": "stream",
     "text": [
      "Enter the limit for the Fibonacci sequence:  6\n"
     ]
    },
    {
     "name": "stdout",
     "output_type": "stream",
     "text": [
      "Fibonacci sequence up to 6 : [0, 1, 1, 2, 3, 5]\n"
     ]
    }
   ],
   "source": [
    "#10Create a Python program that prints the Fibonacci sequence up to a specified limit using a for loop\n",
    "# Function to generate Fibonacci sequence up to a specified limit\n",
    "def fibonacci_sequence(limit):\n",
    "    fib_sequence = [0, 1]\n",
    "\n",
    "    while fib_sequence[-1] + fib_sequence[-2] <= limit:\n",
    "        fib_sequence.append(fib_sequence[-1] + fib_sequence[-2])\n",
    "\n",
    "    return fib_sequence\n",
    "\n",
    "# Example usage\n",
    "limit = int(input(\"Enter the limit for the Fibonacci sequence: \"))\n",
    "result = fibonacci_sequence(limit)\n",
    "\n",
    "print(\"Fibonacci sequence up to\", limit, \":\", result)\n"
   ]
  },
  {
   "cell_type": "code",
   "execution_count": 10,
   "id": "6045ba03-2247-4237-8c93-cac24912124d",
   "metadata": {
    "tags": []
   },
   "outputs": [
    {
     "name": "stdin",
     "output_type": "stream",
     "text": [
      "Enter a string:  mukti\n"
     ]
    },
    {
     "name": "stdout",
     "output_type": "stream",
     "text": [
      "Number of vowels in the string: 2\n"
     ]
    }
   ],
   "source": [
    "#11 write a Python program to count the number of vowels in a given string using a for loop.\n",
    "# Function to count the number of vowels in a string\n",
    "def count_vowels(input_string):\n",
    "    vowels = \"aeiouAEIOU\"\n",
    "    count = 0\n",
    "\n",
    "    for char in input_string:\n",
    "        if char in vowels:\n",
    "            count += 1\n",
    "\n",
    "    return count\n",
    "\n",
    "# Example usage\n",
    "user_input = input(\"Enter a string: \")\n",
    "result = count_vowels(user_input)\n",
    "\n",
    "print(\"Number of vowels in the string:\", result)\n",
    "\n"
   ]
  },
  {
   "cell_type": "code",
   "execution_count": 11,
   "id": "47bf9ab7-c777-4169-8b55-84a538f7b001",
   "metadata": {
    "tags": []
   },
   "outputs": [
    {
     "name": "stdin",
     "output_type": "stream",
     "text": [
      "Enter a number for the multiplication table:  5\n",
      "Enter the limit for the table (default is 10):  10\n"
     ]
    },
    {
     "name": "stdout",
     "output_type": "stream",
     "text": [
      "Multiplication Table for 5 up to 10:\n",
      "5 x 1 = 5\n",
      "5 x 2 = 10\n",
      "5 x 3 = 15\n",
      "5 x 4 = 20\n",
      "5 x 5 = 25\n",
      "5 x 6 = 30\n",
      "5 x 7 = 35\n",
      "5 x 8 = 40\n",
      "5 x 9 = 45\n",
      "5 x 10 = 50\n"
     ]
    }
   ],
   "source": [
    "#12Create a Python program that generates a multiplication table for a given number using a for loop.\n",
    "# Function to generate a multiplication table for a given number\n",
    "def multiplication_table(number, limit=10):\n",
    "    print(f\"Multiplication Table for {number} up to {limit}:\")\n",
    "\n",
    "    for i in range(1, limit + 1):\n",
    "        result = number * i\n",
    "        print(f\"{number} x {i} = {result}\")\n",
    "\n",
    "# Example usage\n",
    "user_number = int(input(\"Enter a number for the multiplication table: \"))\n",
    "user_limit = int(input(\"Enter the limit for the table (default is 10): \") or 10)\n",
    "\n",
    "multiplication_table(user_number, user_limit)\n"
   ]
  },
  {
   "cell_type": "code",
   "execution_count": 12,
   "id": "9944dd49-c40d-4e08-a3dc-5391dc0cea44",
   "metadata": {
    "tags": []
   },
   "outputs": [
    {
     "name": "stdout",
     "output_type": "stream",
     "text": [
      "Original List: [1, 2, 3, 4, 5]\n",
      "Reversed List: [5, 4, 3, 2, 1]\n"
     ]
    }
   ],
   "source": [
    "#13Write a Python program to reverse a list using a for loop\n",
    "# Function to reverse a list using a for loop\n",
    "def reverse_list(input_list):\n",
    "    reversed_list = []\n",
    "\n",
    "    for element in input_list:\n",
    "        reversed_list.insert(0, element)\n",
    "\n",
    "    return reversed_list\n",
    "\n",
    "# Example usage\n",
    "my_list = [1, 2, 3, 4, 5]\n",
    "reversed_result = reverse_list(my_list)\n",
    "\n",
    "print(\"Original List:\", my_list)\n",
    "print(\"Reversed List:\", reversed_result)\n"
   ]
  },
  {
   "cell_type": "code",
   "execution_count": 13,
   "id": "33aa715e-f23f-442c-91d9-6b101b50cd3d",
   "metadata": {
    "tags": []
   },
   "outputs": [
    {
     "name": "stdout",
     "output_type": "stream",
     "text": [
      "List A: [1, 2, 3, 4, 5]\n",
      "List B: [3, 4, 5, 6, 7]\n",
      "Common Elements: [3, 4, 5]\n"
     ]
    }
   ],
   "source": [
    "#14 Write a Python program to find the common elements between two lists using a for loop.\n",
    "# Function to find common elements between two lists\n",
    "def find_common_elements(list1, list2):\n",
    "    common_elements = []\n",
    "\n",
    "    for element1 in list1:\n",
    "        for element2 in list2:\n",
    "            if element1 == element2:\n",
    "                common_elements.append(element1)\n",
    "\n",
    "    return common_elements\n",
    "\n",
    "# Example usage\n",
    "list_a = [1, 2, 3, 4, 5]\n",
    "list_b = [3, 4, 5, 6, 7]\n",
    "\n",
    "common_elements_result = find_common_elements(list_a, list_b)\n",
    "\n",
    "print(\"List A:\", list_a)\n",
    "print(\"List B:\", list_b)\n",
    "print(\"Common Elements:\", common_elements_result)\n"
   ]
  },
  {
   "cell_type": "code",
   "execution_count": 14,
   "id": "af0d1a83-98d2-4745-8612-359dbd8e4bd1",
   "metadata": {
    "tags": []
   },
   "outputs": [
    {
     "name": "stdout",
     "output_type": "stream",
     "text": [
      "Key: a, Value: 1\n",
      "Key: b, Value: 2\n",
      "Key: c, Value: 3\n",
      "Key: d, Value: 4\n"
     ]
    }
   ],
   "source": [
    "#15 xplain how to use a for loop to iterate through the keys and values of a dictionary in Python.\n",
    "# Sample dictionary\n",
    "my_dict = {'a': 1, 'b': 2, 'c': 3, 'd': 4}\n",
    "\n",
    "# Iterating through keys and values using a for loop\n",
    "for key, value in my_dict.items():\n",
    "    print(f\"Key: {key}, Value: {value}\")\n"
   ]
  },
  {
   "cell_type": "code",
   "execution_count": 15,
   "id": "4967358a-5203-4de7-a842-1c9c571ceb31",
   "metadata": {
    "tags": []
   },
   "outputs": [
    {
     "name": "stdin",
     "output_type": "stream",
     "text": [
      "Enter the first number:  40\n",
      "Enter the second number:  50\n"
     ]
    },
    {
     "name": "stdout",
     "output_type": "stream",
     "text": [
      "The GCD of 40 and 50 is: 10\n"
     ]
    }
   ],
   "source": [
    "#16Write a Python program to find the GCD (Greatest Common Divisor) of two numbers using a for loop.\n",
    "# Function to calculate the GCD of two numbers\n",
    "def calculate_gcd(num1, num2):\n",
    "    smaller_number = min(num1, num2)\n",
    "\n",
    "    for i in range(smaller_number, 0, -1):\n",
    "        if num1 % i == 0 and num2 % i == 0:\n",
    "            return i\n",
    "\n",
    "    return 1  # If no common divisor other than 1 is found\n",
    "\n",
    "# Example usage\n",
    "num1 = int(input(\"Enter the first number: \"))\n",
    "num2 = int(input(\"Enter the second number: \"))\n",
    "\n",
    "result = calculate_gcd(num1, num2)\n",
    "print(f\"The GCD of {num1} and {num2} is: {result}\")\n"
   ]
  },
  {
   "cell_type": "code",
   "execution_count": 16,
   "id": "0026e010-1533-4142-b9f4-6d393ccd02ce",
   "metadata": {
    "tags": []
   },
   "outputs": [
    {
     "name": "stdin",
     "output_type": "stream",
     "text": [
      "Enter a string:  mukti\n"
     ]
    },
    {
     "name": "stdout",
     "output_type": "stream",
     "text": [
      "mukti is not a palindrome.\n"
     ]
    }
   ],
   "source": [
    "#17Create a Python program that checks if a string is a palindrome using a for loop.\n",
    "# Function to check if a string is a palindrome\n",
    "def is_palindrome(input_string):\n",
    "    cleaned_string = ''.join(char.lower() for char in input_string if char.isalnum())\n",
    "    \n",
    "    for i in range(len(cleaned_string) // 2):\n",
    "        if cleaned_string[i] != cleaned_string[-i - 1]:\n",
    "            return False\n",
    "\n",
    "    return True\n",
    "\n",
    "# Example usage\n",
    "user_input = input(\"Enter a string: \")\n",
    "\n",
    "if is_palindrome(user_input):\n",
    "    print(f\"{user_input} is a palindrome.\")\n",
    "else:\n",
    "    print(f\"{user_input} is not a palindrome.\")\n"
   ]
  },
  {
   "cell_type": "code",
   "execution_count": 17,
   "id": "b8ccb388-29f7-48be-9971-a340e428ba8c",
   "metadata": {
    "tags": []
   },
   "outputs": [
    {
     "name": "stdout",
     "output_type": "stream",
     "text": [
      "Original List: [1, 2, 2, 3, 4, 4, 5]\n",
      "List with Duplicates Removed: [1, 2, 3, 4, 5]\n"
     ]
    }
   ],
   "source": [
    "#18write a Python program to remove duplicates from a list using a for loop.\n",
    "# Function to remove duplicates from a list\n",
    "def remove_duplicates(input_list):\n",
    "    unique_list = []\n",
    "\n",
    "    for item in input_list:\n",
    "        if item not in unique_list:\n",
    "            unique_list.append(item)\n",
    "\n",
    "    return unique_list\n",
    "\n",
    "# Example usage\n",
    "my_list = [1, 2, 2, 3, 4, 4, 5]\n",
    "result = remove_duplicates(my_list)\n",
    "\n",
    "print(\"Original List:\", my_list)\n",
    "print(\"List with Duplicates Removed:\", result)\n"
   ]
  },
  {
   "cell_type": "code",
   "execution_count": 18,
   "id": "84bcd006-fa3c-414d-a275-73f4531b8f38",
   "metadata": {
    "tags": []
   },
   "outputs": [
    {
     "name": "stdin",
     "output_type": "stream",
     "text": [
      "Enter a sentence:  my name multi\n"
     ]
    },
    {
     "name": "stdout",
     "output_type": "stream",
     "text": [
      "Number of words in the sentence: 3\n"
     ]
    }
   ],
   "source": [
    "#19Create a Python program that counts the number of words in a sentence using a for loop.\n",
    "# Function to count the number of words in a sentence\n",
    "def count_words(sentence):\n",
    "    word_count = 0\n",
    "\n",
    "    for word in sentence.split():\n",
    "        word_count += 1\n",
    "\n",
    "    return word_count\n",
    "\n",
    "# Example usage\n",
    "user_sentence = input(\"Enter a sentence: \")\n",
    "result = count_words(user_sentence)\n",
    "\n",
    "print(f\"Number of words in the sentence: {result}\")\n"
   ]
  },
  {
   "cell_type": "code",
   "execution_count": 19,
   "id": "0f6988f3-dedd-4852-bdf4-ea8970124549",
   "metadata": {
    "tags": []
   },
   "outputs": [
    {
     "name": "stdout",
     "output_type": "stream",
     "text": [
      "Sum of odd numbers from 1 to 50: 625\n"
     ]
    }
   ],
   "source": [
    "#20Write a Python program to find the sum of all odd numbers from 1 to 50 using a for loop.\n",
    "# Using a for loop to find the sum of odd numbers from 1 to 50\n",
    "sum_of_odd_numbers = 0\n",
    "\n",
    "for number in range(1, 51, 2):\n",
    "    sum_of_odd_numbers += number\n",
    "\n",
    "print(\"Sum of odd numbers from 1 to 50:\", sum_of_odd_numbers)\n"
   ]
  },
  {
   "cell_type": "code",
   "execution_count": 20,
   "id": "8ecf51bb-4faf-4855-9d5d-6830ecf58988",
   "metadata": {
    "tags": []
   },
   "outputs": [
    {
     "name": "stdin",
     "output_type": "stream",
     "text": [
      "Enter a year:  2024\n"
     ]
    },
    {
     "name": "stdout",
     "output_type": "stream",
     "text": [
      "2024 is a leap year.\n"
     ]
    }
   ],
   "source": [
    "#21Write a Python program that checks if a given year is a leap year using a for loop.\n",
    "# Function to check if a year is a leap year\n",
    "def is_leap_year(year):\n",
    "    if (year % 4 == 0 and year % 100 != 0) or (year % 400 == 0):\n",
    "        return True\n",
    "    else:\n",
    "        return False\n",
    "\n",
    "# Example usage\n",
    "user_year = int(input(\"Enter a year: \"))\n",
    "\n",
    "if is_leap_year(user_year):\n",
    "    print(f\"{user_year} is a leap year.\")\n",
    "else:\n",
    "    print(f\"{user_year} is not a leap year.\")\n"
   ]
  },
  {
   "cell_type": "code",
   "execution_count": 21,
   "id": "c8340f01-fda5-4666-a2d9-84b7c131c5c4",
   "metadata": {
    "tags": []
   },
   "outputs": [
    {
     "name": "stdin",
     "output_type": "stream",
     "text": [
      "Enter a number:  36\n"
     ]
    },
    {
     "name": "stdout",
     "output_type": "stream",
     "text": [
      "The square root of 36.0 is approximately: 6.0\n"
     ]
    }
   ],
   "source": [
    "#22 Create a Python program that calculates the square root of a number using a for loop.\n",
    "# Function to calculate the square root using the Babylonian method\n",
    "def calculate_square_root(number, iterations=100):\n",
    "    guess = number / 2  # Initial guess\n",
    "\n",
    "    for _ in range(iterations):\n",
    "        guess = 0.5 * (guess + number / guess)\n",
    "\n",
    "    return guess\n",
    "\n",
    "# Example usage\n",
    "user_number = float(input(\"Enter a number: \"))\n",
    "result = calculate_square_root(user_number)\n",
    "\n",
    "print(f\"The square root of {user_number} is approximately: {result}\")\n"
   ]
  },
  {
   "cell_type": "code",
   "execution_count": 22,
   "id": "9414dc3f-a26e-4dca-8a1e-bef4ef64308c",
   "metadata": {
    "tags": []
   },
   "outputs": [
    {
     "name": "stdin",
     "output_type": "stream",
     "text": [
      "Enter the first number:  4\n",
      "Enter the second number:  6\n"
     ]
    },
    {
     "name": "stdout",
     "output_type": "stream",
     "text": [
      "The LCM of 4 and 6 is: 12\n"
     ]
    }
   ],
   "source": [
    "#23Write a Python program to find the LCM (Least Common Multiple) of two numbers using a for loop.\n",
    "# Function to calculate the GCD (Greatest Common Divisor) of two numbers\n",
    "def calculate_gcd(num1, num2):\n",
    "    while num2:\n",
    "        num1, num2 = num2, num1 % num2\n",
    "    return num1\n",
    "\n",
    "# Function to calculate the LCM (Least Common Multiple) of two numbers\n",
    "def calculate_lcm(num1, num2):\n",
    "    if num1 == 0 or num2 == 0:\n",
    "        return 0\n",
    "    return abs(num1 * num2) // calculate_gcd(num1, num2)\n",
    "\n",
    "# Example usage\n",
    "user_num1 = int(input(\"Enter the first number: \"))\n",
    "user_num2 = int(input(\"Enter the second number: \"))\n",
    "\n",
    "result = calculate_lcm(user_num1, user_num2)\n",
    "print(f\"The LCM of {user_num1} and {user_num2} is: {result}\")\n"
   ]
  },
  {
   "cell_type": "code",
   "execution_count": null,
   "id": "8a206133-7d29-4f5e-b0a1-61d00d2c0c25",
   "metadata": {},
   "outputs": [],
   "source": [
    "If else :\n",
    "\n",
    "\n",
    "1Write a Python program to check if a number is positive, negative, or zero using an if-else statement.\n"
   ]
  },
  {
   "cell_type": "code",
   "execution_count": 1,
   "id": "878f60e9-a3f3-4257-b019-d8f62f567e00",
   "metadata": {
    "tags": []
   },
   "outputs": [
    {
     "name": "stdin",
     "output_type": "stream",
     "text": [
      "Enter a number:  40\n"
     ]
    },
    {
     "name": "stdout",
     "output_type": "stream",
     "text": [
      "The number is positive.\n"
     ]
    }
   ],
   "source": [
    "# Get user input for the number\n",
    "number = float(input(\"Enter a number: \"))\n",
    "\n",
    "# Check if the number is positive, negative, or zero\n",
    "if number > 0:\n",
    "    print(\"The number is positive.\")\n",
    "elif number < 0:\n",
    "    print(\"The number is negative.\")\n",
    "else:\n",
    "    print(\"The number is zero.\")\n"
   ]
  },
  {
   "cell_type": "code",
   "execution_count": 2,
   "id": "92e15e64-e670-483f-9062-4ed1a29bb28b",
   "metadata": {
    "tags": []
   },
   "outputs": [
    {
     "name": "stdin",
     "output_type": "stream",
     "text": [
      "Enter a number:  6\n"
     ]
    },
    {
     "name": "stdout",
     "output_type": "stream",
     "text": [
      "The number is even.\n"
     ]
    }
   ],
   "source": [
    "#2Create a Python program that checks if a given number is even or odd using an if-else statement.\n",
    "# Get user input for the number\n",
    "number = int(input(\"Enter a number: \"))\n",
    "\n",
    "# Check if the number is even or odd\n",
    "if number % 2 == 0:\n",
    "    print(\"The number is even.\")\n",
    "else:\n",
    "    print(\"The number is odd.\")\n"
   ]
  },
  {
   "cell_type": "code",
   "execution_count": 3,
   "id": "ef40cbdf-40f2-4f1e-8566-6e83294c7a43",
   "metadata": {
    "tags": []
   },
   "outputs": [
    {
     "name": "stdin",
     "output_type": "stream",
     "text": [
      "Enter a number:  8\n"
     ]
    },
    {
     "name": "stdout",
     "output_type": "stream",
     "text": [
      "The number is positive.\n"
     ]
    }
   ],
   "source": [
    "#3How can you use nested if-else statements in Python, and provide an example?\n",
    "# Get user input for a number\n",
    "number = int(input(\"Enter a number: \"))\n",
    "\n",
    "# Check if the number is positive, negative, or zero\n",
    "if number > 0:\n",
    "    print(\"The number is positive.\")\n",
    "elif number == 0:\n",
    "    print(\"The number is zero.\")\n",
    "else:\n",
    "    print(\"The number is negative.\")\n",
    "\n",
    "    # Check if the negative number is even or odd\n",
    "    if number % 2 == 0:\n",
    "        print(\"The negative number is even.\")\n",
    "    else:\n",
    "        print(\"The negative number is odd.\")\n"
   ]
  },
  {
   "cell_type": "code",
   "execution_count": 4,
   "id": "bff9a665-c555-475b-8928-c10ab9c41308",
   "metadata": {
    "tags": []
   },
   "outputs": [
    {
     "name": "stdin",
     "output_type": "stream",
     "text": [
      "Enter the first number:  60\n",
      "Enter the second number:  50\n",
      "Enter the third number:  20\n"
     ]
    },
    {
     "name": "stdout",
     "output_type": "stream",
     "text": [
      "The largest number is: 60.0\n"
     ]
    }
   ],
   "source": [
    "#4Write a Python program to determine the largest of three numbers using if-else\n",
    "# Get user input for three numbers\n",
    "num1 = float(input(\"Enter the first number: \"))\n",
    "num2 = float(input(\"Enter the second number: \"))\n",
    "num3 = float(input(\"Enter the third number: \"))\n",
    "\n",
    "# Compare the three numbers to find the largest\n",
    "if num1 >= num2 and num1 >= num3:\n",
    "    largest = num1\n",
    "elif num2 >= num1 and num2 >= num3:\n",
    "    largest = num2\n",
    "else:\n",
    "    largest = num3\n",
    "\n",
    "# Print the result\n",
    "print(\"The largest number is:\", largest)\n"
   ]
  },
  {
   "cell_type": "code",
   "execution_count": 5,
   "id": "7e552dc2-7a07-420b-b28c-61a9ecdd927b",
   "metadata": {
    "tags": []
   },
   "outputs": [
    {
     "name": "stdin",
     "output_type": "stream",
     "text": [
      "Enter a number:  40.1\n"
     ]
    },
    {
     "name": "stdout",
     "output_type": "stream",
     "text": [
      "The absolute value of 40.1 is: 40.1\n"
     ]
    }
   ],
   "source": [
    "#5Write a Python program that calculates the absolute value of a number using if-else.\n",
    "# Get user input for a number\n",
    "number = float(input(\"Enter a number: \"))\n",
    "\n",
    "# Calculate the absolute value using if-else\n",
    "if number < 0:\n",
    "    absolute_value = -number\n",
    "else:\n",
    "    absolute_value = number\n",
    "\n",
    "# Print the result\n",
    "print(\"The absolute value of\", number, \"is:\", absolute_value)\n"
   ]
  },
  {
   "cell_type": "code",
   "execution_count": 6,
   "id": "3d461870-4368-4f0b-932f-d70af41d541d",
   "metadata": {
    "tags": []
   },
   "outputs": [
    {
     "name": "stdin",
     "output_type": "stream",
     "text": [
      "Enter a character:  mukti\n"
     ]
    },
    {
     "name": "stdout",
     "output_type": "stream",
     "text": [
      "The character mukti is a consonant.\n"
     ]
    }
   ],
   "source": [
    "#6 Create a Python program that checks if a given character is a vowel or consonant using if-else.\n",
    "# Get user input for a character (assuming a single character is entered)\n",
    "char = input(\"Enter a character: \")\n",
    "\n",
    "# Check if the character is a vowel or consonant\n",
    "if char.lower() in 'aeiou':\n",
    "    print(f\"The character {char} is a vowel.\")\n",
    "else:\n",
    "    print(f\"The character {char} is a consonant.\")\n"
   ]
  },
  {
   "cell_type": "code",
   "execution_count": 7,
   "id": "227d6aa4-3b39-4df8-8841-d52cb19268fc",
   "metadata": {
    "tags": []
   },
   "outputs": [
    {
     "name": "stdin",
     "output_type": "stream",
     "text": [
      "Enter your age:  30\n"
     ]
    },
    {
     "name": "stdout",
     "output_type": "stream",
     "text": [
      "You are eligible to vote.\n"
     ]
    }
   ],
   "source": [
    "#7Write a Python program to determine if a user is eligible to vote based on their age using if-else.\n",
    "# Get user input for age\n",
    "age = int(input(\"Enter your age: \"))\n",
    "\n",
    "# Check eligibility to vote\n",
    "if age >= 18:\n",
    "    print(\"You are eligible to vote.\")\n",
    "else:\n",
    "    print(\"You are not eligible to vote yet. Please wait until you turn 18.\")\n"
   ]
  },
  {
   "cell_type": "code",
   "execution_count": 8,
   "id": "1960fa6e-f1c2-43c6-a843-2dae37a0ff6c",
   "metadata": {
    "tags": []
   },
   "outputs": [
    {
     "name": "stdin",
     "output_type": "stream",
     "text": [
      "Enter the purchase amount:  500\n"
     ]
    },
    {
     "name": "stdout",
     "output_type": "stream",
     "text": [
      "Original amount: $500.00\n",
      "Discount amount: $50.00\n",
      "Final amount after discount: $450.00\n"
     ]
    }
   ],
   "source": [
    "#8 Create a Python program that calculates the discount amount based on the purchase amount using if-else\n",
    "# Get user input for the purchase amount\n",
    "purchase_amount = float(input(\"Enter the purchase amount: \"))\n",
    "\n",
    "# Define discount rates based on purchase amount\n",
    "if purchase_amount >= 100:\n",
    "    discount_rate = 0.1  # 10% discount for purchases of $100 or more\n",
    "else:\n",
    "    discount_rate = 0  # No discount for purchases below $100\n",
    "\n",
    "# Calculate the discount amount\n",
    "discount_amount = purchase_amount * discount_rate\n",
    "\n",
    "# Calculate the final amount after discount\n",
    "final_amount = purchase_amount - discount_amount\n",
    "\n",
    "# Print the results\n",
    "print(f\"Original amount: ${purchase_amount:.2f}\")\n",
    "print(f\"Discount amount: ${discount_amount:.2f}\")\n",
    "print(f\"Final amount after discount: ${final_amount:.2f}\")\n"
   ]
  },
  {
   "cell_type": "code",
   "execution_count": 9,
   "id": "a200c9f2-31d8-48ec-8e96-98944a29a6c4",
   "metadata": {
    "tags": []
   },
   "outputs": [
    {
     "name": "stdin",
     "output_type": "stream",
     "text": [
      "Enter a number:  40\n"
     ]
    },
    {
     "name": "stdout",
     "output_type": "stream",
     "text": [
      "The number 40.0 is within the specified range.\n"
     ]
    }
   ],
   "source": [
    "#9 Write a Python program to check if a number is within a specified range using if-else\n",
    "# Define the specified range\n",
    "lower_limit = 10\n",
    "upper_limit = 50\n",
    "\n",
    "# Get user input for the number\n",
    "number = float(input(\"Enter a number: \"))\n",
    "\n",
    "# Check if the number is within the specified range\n",
    "if lower_limit <= number <= upper_limit:\n",
    "    print(f\"The number {number} is within the specified range.\")\n",
    "else:\n",
    "    print(f\"The number {number} is outside the specified range.\")\n"
   ]
  },
  {
   "cell_type": "code",
   "execution_count": 10,
   "id": "19523e98-3963-435f-b4f6-1f1b78a349c5",
   "metadata": {
    "tags": []
   },
   "outputs": [
    {
     "name": "stdin",
     "output_type": "stream",
     "text": [
      "Enter the student's score:  70\n"
     ]
    },
    {
     "name": "stdout",
     "output_type": "stream",
     "text": [
      "The student's grade is: C\n"
     ]
    }
   ],
   "source": [
    "#10 Create a Python program that determines the grade of a student based on their score using if-else.\n",
    "# Get user input for the score\n",
    "score = float(input(\"Enter the student's score: \"))\n",
    "\n",
    "# Determine the grade based on the score\n",
    "if 90 <= score <= 100:\n",
    "    grade = 'A'\n",
    "elif 80 <= score < 90:\n",
    "    grade = 'B'\n",
    "elif 70 <= score < 80:\n",
    "    grade = 'C'\n",
    "elif 60 <= score < 70:\n",
    "    grade = 'D'\n",
    "elif 0 <= score < 60:\n",
    "    grade = 'F'\n",
    "else:\n",
    "    print(\"Invalid score. Please enter a score between 0 and 100.\")\n",
    "    exit()\n",
    "\n",
    "# Print the result\n",
    "print(f\"The student's grade is: {grade}\")\n",
    "\n",
    "\n"
   ]
  },
  {
   "cell_type": "code",
   "execution_count": 11,
   "id": "4de52684-5767-4afe-81b0-8df6899c8552",
   "metadata": {
    "tags": []
   },
   "outputs": [
    {
     "name": "stdin",
     "output_type": "stream",
     "text": [
      "Enter a string:  mukti\n"
     ]
    },
    {
     "name": "stdout",
     "output_type": "stream",
     "text": [
      "The string is not empty.\n"
     ]
    }
   ],
   "source": [
    "#11 Write a Python program to check if a string is empty or not using if-else.\n",
    "# Get user input for a string\n",
    "user_input = input(\"Enter a string: \")\n",
    "\n",
    "# Check if the string is empty or not\n",
    "if not user_input:\n",
    "    print(\"The string is empty.\")\n",
    "else:\n",
    "    print(\"The string is not empty.\")\n"
   ]
  },
  {
   "cell_type": "code",
   "execution_count": 12,
   "id": "8a5677b6-abe7-4498-8590-f7cbd854de06",
   "metadata": {
    "tags": []
   },
   "outputs": [
    {
     "name": "stdin",
     "output_type": "stream",
     "text": [
      "Enter the length of the first side:  12\n",
      "Enter the length of the second side:  30\n",
      "Enter the length of the third side:  22\n"
     ]
    },
    {
     "name": "stdout",
     "output_type": "stream",
     "text": [
      "The triangle is a Scalene triangle.\n"
     ]
    }
   ],
   "source": [
    "#12 Create a Python program that identifies the type of a triangle (e.g., equilateral, isosceles, or scalene) based on input values using if-else.\n",
    "# Get user input for the sides of the triangle\n",
    "side1 = float(input(\"Enter the length of the first side: \"))\n",
    "side2 = float(input(\"Enter the length of the second side: \"))\n",
    "side3 = float(input(\"Enter the length of the third side: \"))\n",
    "\n",
    "# Check the type of triangle\n",
    "if side1 == side2 == side3:\n",
    "    triangle_type = \"Equilateral\"\n",
    "elif side1 == side2 or side1 == side3 or side2 == side3:\n",
    "    triangle_type = \"Isosceles\"\n",
    "else:\n",
    "    triangle_type = \"Scalene\"\n",
    "\n",
    "# Print the result\n",
    "print(f\"The triangle is a {triangle_type} triangle.\")\n"
   ]
  },
  {
   "cell_type": "code",
   "execution_count": 13,
   "id": "54e9f5d8-2b3b-4830-9792-33537862149d",
   "metadata": {
    "tags": []
   },
   "outputs": [
    {
     "name": "stdin",
     "output_type": "stream",
     "text": [
      "Enter a number (1-7) representing the day of the week:  6\n"
     ]
    },
    {
     "name": "stdout",
     "output_type": "stream",
     "text": [
      "The day corresponding to the number 6 is Saturday.\n"
     ]
    }
   ],
   "source": [
    "#13Write a Python program to determine the day of the week based on a user-provided number using if-else\n",
    "# Get user input for a number representing the day of the week\n",
    "day_number = int(input(\"Enter a number (1-7) representing the day of the week: \"))\n",
    "\n",
    "# Check the day of the week based on the input number\n",
    "if day_number == 1:\n",
    "    day_name = \"Monday\"\n",
    "elif day_number == 2:\n",
    "    day_name = \"Tuesday\"\n",
    "elif day_number == 3:\n",
    "    day_name = \"Wednesday\"\n",
    "elif day_number == 4:\n",
    "    day_name = \"Thursday\"\n",
    "elif day_number == 5:\n",
    "    day_name = \"Friday\"\n",
    "elif day_number == 6:\n",
    "    day_name = \"Saturday\"\n",
    "elif day_number == 7:\n",
    "    day_name = \"Sunday\"\n",
    "else:\n",
    "    print(\"Invalid input. Please enter a number between 1 and 7.\")\n",
    "    exit()\n",
    "\n",
    "# Print the result\n",
    "print(f\"The day corresponding to the number {day_number} is {day_name}.\")\n"
   ]
  },
  {
   "cell_type": "code",
   "execution_count": 1,
   "id": "49aa5f0c-f8d5-4d2f-8cc0-05b69386f5c6",
   "metadata": {},
   "outputs": [
    {
     "name": "stdin",
     "output_type": "stream",
     "text": [
      "Enter a year:  2024\n"
     ]
    },
    {
     "name": "stdout",
     "output_type": "stream",
     "text": [
      "2024 is a leap year.\n"
     ]
    }
   ],
   "source": [
    "#14 Create a Python program that checks if a given year is a leap year using both if-else and a function\n",
    "# Function to check if a year is a leap year\n",
    "def is_leap_year(year):\n",
    "    if (year % 4 == 0 and year % 100 != 0) or (year % 400 == 0):\n",
    "        return True\n",
    "    else:\n",
    "        return False\n",
    "\n",
    "# Get user input for the year\n",
    "year = int(input(\"Enter a year: \"))\n",
    "\n",
    "# Check if the year is a leap year using the function\n",
    "if is_leap_year(year):\n",
    "    print(f\"{year} is a leap year.\")\n",
    "else:\n",
    "    print(f\"{year} is not a leap year.\")\n"
   ]
  },
  {
   "cell_type": "code",
   "execution_count": 4,
   "id": "65fb5ea8-5c1c-41fe-8523-2e1198abbf77",
   "metadata": {
    "tags": []
   },
   "outputs": [
    {
     "name": "stdin",
     "output_type": "stream",
     "text": [
      "Enter the original price:  200\n",
      "Enter the discount rate (as a decimal):  1\n"
     ]
    },
    {
     "name": "stdout",
     "output_type": "stream",
     "text": [
      "The discounted price is: 0.00\n"
     ]
    }
   ],
   "source": [
    "#15 How do you use the \"assert\" statement in Python to add debugging checks within if-else blocks?\n",
    "# Function to calculate discounted price\n",
    "def calculate_discounted_price(original_price, discount_rate):\n",
    "    assert original_price >= 0, \"Original price must be non-negative\"\n",
    "    assert 0 <= discount_rate <= 1, \"Discount rate must be between 0 and 1\"\n",
    "\n",
    "    discounted_price = original_price - (original_price * discount_rate)\n",
    "    return discounted_price\n",
    "\n",
    "# Example usage\n",
    "try:\n",
    "    original_price = float(input(\"Enter the original price: \"))\n",
    "    discount_rate = float(input(\"Enter the discount rate (as a decimal): \"))\n",
    "except ValueError:\n",
    "    print(\"Invalid input. Please enter numeric values.\")\n",
    "    exit()\n",
    "\n",
    "# Calculate and print the discounted price\n",
    "discounted_price = calculate_discounted_price(original_price, discount_rate)\n",
    "print(f\"The discounted price is: {discounted_price:.2f}\")\n",
    "\n"
   ]
  },
  {
   "cell_type": "code",
   "execution_count": 5,
   "id": "0f8b52e6-eb8f-446c-9f22-7e04cf228c2c",
   "metadata": {
    "tags": []
   },
   "outputs": [
    {
     "name": "stdin",
     "output_type": "stream",
     "text": [
      "Enter your age:  28\n"
     ]
    },
    {
     "name": "stdout",
     "output_type": "stream",
     "text": [
      "Sorry, you are not eligible for a senior citizen discount.\n"
     ]
    }
   ],
   "source": [
    "#16 Create a Python program that determines the eligibility of a person for a senior citizen discount based on age using if-else.\n",
    "# Get user input for age\n",
    "age = int(input(\"Enter your age: \"))\n",
    "\n",
    "# Check eligibility for senior citizen discount\n",
    "if age >= 60:\n",
    "    print(\"Congratulations! You are eligible for a senior citizen discount.\")\n",
    "else:\n",
    "    print(\"Sorry, you are not eligible for a senior citizen discount.\")\n"
   ]
  },
  {
   "cell_type": "code",
   "execution_count": 6,
   "id": "a44f8af2-d89d-45f9-92ff-0927a16d9ce6",
   "metadata": {
    "tags": []
   },
   "outputs": [
    {
     "name": "stdin",
     "output_type": "stream",
     "text": [
      "Enter a character:  MUKTI\n"
     ]
    },
    {
     "name": "stdout",
     "output_type": "stream",
     "text": [
      "The character MUKTI is uppercase.\n"
     ]
    }
   ],
   "source": [
    "#17 Write a Python program to categorize a given character as uppercase, lowercase, or neither using if-else.\n",
    "# Get user input for a character\n",
    "character = input(\"Enter a character: \")\n",
    "\n",
    "# Check the category of the character\n",
    "if character.isupper():\n",
    "    print(f\"The character {character} is uppercase.\")\n",
    "elif character.islower():\n",
    "    print(f\"The character {character} is lowercase.\")\n",
    "else:\n",
    "    print(f\"The character {character} is neither uppercase nor lowercase.\")\n"
   ]
  },
  {
   "cell_type": "code",
   "execution_count": 7,
   "id": "a4879a46-7971-492c-a808-2bb361cea562",
   "metadata": {
    "tags": []
   },
   "outputs": [
    {
     "name": "stdin",
     "output_type": "stream",
     "text": [
      "Enter the coefficient a:  2\n",
      "Enter the coefficient b:  3\n",
      "Enter the coefficient c:  4\n"
     ]
    },
    {
     "name": "stdout",
     "output_type": "stream",
     "text": [
      "The roots of the quadratic equation are complex: -0.75 + 1.1989578808281798i and -0.75 - 1.1989578808281798i\n"
     ]
    }
   ],
   "source": [
    "#18 Write a Python program to determine the roots of a quadratic equation using if-else.\n",
    "import math\n",
    "\n",
    "# Get user input for coefficients\n",
    "a = float(input(\"Enter the coefficient a: \"))\n",
    "b = float(input(\"Enter the coefficient b: \"))\n",
    "c = float(input(\"Enter the coefficient c: \"))\n",
    "\n",
    "# Calculate the discriminant\n",
    "discriminant = b**2 - 4*a*c\n",
    "\n",
    "# Check the nature of the roots\n",
    "if discriminant > 0:\n",
    "    root1 = (-b + math.sqrt(discriminant)) / (2*a)\n",
    "    root2 = (-b - math.sqrt(discriminant)) / (2*a)\n",
    "    print(f\"The roots of the quadratic equation are real and distinct: {root1} and {root2}\")\n",
    "elif discriminant == 0:\n",
    "    root = -b / (2*a)\n",
    "    print(f\"The root of the quadratic equation is real and equal: {root}\")\n",
    "else:\n",
    "    real_part = -b / (2*a)\n",
    "    imaginary_part = math.sqrt(abs(discriminant)) / (2*a)\n",
    "    print(f\"The roots of the quadratic equation are complex: {real_part} + {imaginary_part}i and {real_part} - {imaginary_part}i\")\n"
   ]
  },
  {
   "cell_type": "code",
   "execution_count": 8,
   "id": "bd1fb9bd-4a03-4250-bc47-22e4c448b14b",
   "metadata": {
    "tags": []
   },
   "outputs": [
    {
     "name": "stdin",
     "output_type": "stream",
     "text": [
      "Enter a year:  2000\n"
     ]
    },
    {
     "name": "stdout",
     "output_type": "stream",
     "text": [
      "2000 is a century year.\n"
     ]
    }
   ],
   "source": [
    "#19Create a Python program that checks if a given year is a century year or not using if-else\n",
    "# Get user input for the year\n",
    "year = int(input(\"Enter a year: \"))\n",
    "\n",
    "# Check if the year is a century year or not\n",
    "if year % 100 == 0:\n",
    "    print(f\"{year} is a century year.\")\n",
    "else:\n",
    "    print(f\"{year} is not a century year.\")\n"
   ]
  },
  {
   "cell_type": "code",
   "execution_count": 9,
   "id": "aec9cef8-ff65-48e4-94c7-370fd912f913",
   "metadata": {
    "tags": []
   },
   "outputs": [
    {
     "name": "stdin",
     "output_type": "stream",
     "text": [
      "Enter a number:  64\n"
     ]
    },
    {
     "name": "stdout",
     "output_type": "stream",
     "text": [
      "64 is a perfect square.\n"
     ]
    }
   ],
   "source": [
    "#20Write a Python program to determine if a given number is a perfect square using if-else.\n",
    "# Get user input for the number\n",
    "number = int(input(\"Enter a number: \"))\n",
    "\n",
    "# Check if the number is a perfect square\n",
    "if number > 0 and int(number**0.5)**2 == number:\n",
    "    print(f\"{number} is a perfect square.\")\n",
    "else:\n",
    "    print(f\"{number} is not a perfect square.\")\n"
   ]
  },
  {
   "cell_type": "code",
   "execution_count": 10,
   "id": "f884c20c-a3d4-4e69-b74a-a2fb96735399",
   "metadata": {
    "tags": []
   },
   "outputs": [
    {
     "name": "stdout",
     "output_type": "stream",
     "text": [
      "1\n",
      "2\n",
      "Skipping the iteration at i = 3\n",
      "4\n",
      "5\n"
     ]
    }
   ],
   "source": [
    "#21 Explain the purpose of the \"continue\" and \"break\" statements within if-else loops.\n",
    "# continue statement:\n",
    "\n",
    "#Purpose: The continue statement is used to skip the rest of the current iteration and move to the next iteration of the loop.\n",
    "#It does not terminate the loop; instead, it skips the remaining code within the loop for the current iteration.for i in range(1, 6):\n",
    "    if i == 3:\n",
    "        print(\"Skipping the iteration at i =\", i)\n",
    "        continue\n",
    "    print(i)\n",
    "\n",
    "\n"
   ]
  },
  {
   "cell_type": "code",
   "execution_count": 11,
   "id": "b265fce9-91e0-4c17-a325-b4cf4cc870b6",
   "metadata": {
    "tags": []
   },
   "outputs": [
    {
     "name": "stdout",
     "output_type": "stream",
     "text": [
      "1\n",
      "2\n",
      "3\n",
      "4\n",
      "Breaking the loop at i = 5\n"
     ]
    }
   ],
   "source": [
    "#break statement:\n",
    "\n",
    "#Purpose: The break statement is used to exit a loop prematurely. When encountered, it immediately terminates the loop,\n",
    "#and the control flow moves to the next statement after the loop.for i in range(1, 10):\n",
    "    if i == 5:\n",
    "        print(\"Breaking the loop at i =\", i)\n",
    "        break\n",
    "    print(i)\n"
   ]
  },
  {
   "cell_type": "code",
   "execution_count": 12,
   "id": "2b001eb2-7dc4-40a1-bae0-483621782475",
   "metadata": {
    "tags": []
   },
   "outputs": [
    {
     "name": "stdin",
     "output_type": "stream",
     "text": [
      "Enter your weight in kilograms:  200\n",
      "Enter your height in meters:  187\n"
     ]
    },
    {
     "name": "stdout",
     "output_type": "stream",
     "text": [
      "Your BMI is: 0.01\n",
      "You are categorized as: Underweight\n"
     ]
    }
   ],
   "source": [
    "#22Create a Python program that calculates the BMI (Body Mass Index) of a person based on their weight and height using if-else\n",
    "# Get user input for weight (in kilograms) and height (in meters)\n",
    "weight = float(input(\"Enter your weight in kilograms: \"))\n",
    "height = float(input(\"Enter your height in meters: \"))\n",
    "\n",
    "# Calculate BMI\n",
    "bmi = weight / (height**2)\n",
    "\n",
    "# Determine the BMI category\n",
    "if bmi < 18.5:\n",
    "    category = \"Underweight\"\n",
    "elif 18.5 <= bmi < 25:\n",
    "    category = \"Normal weight\"\n",
    "elif 25 <= bmi < 30:\n",
    "    category = \"Overweight\"\n",
    "else:\n",
    "    category = \"Obese\"\n",
    "\n",
    "# Print the results\n",
    "print(f\"Your BMI is: {bmi:.2f}\")\n",
    "print(f\"You are categorized as: {category}\")\n"
   ]
  },
  {
   "cell_type": "code",
   "execution_count": 13,
   "id": "97cd5f08-5168-49cd-87ae-48e983f0df0a",
   "metadata": {
    "tags": []
   },
   "outputs": [
    {
     "name": "stdout",
     "output_type": "stream",
     "text": [
      "Original list: [1, 2, 3, 4, 5, 6, 7, 8, 9, 10]\n",
      "Filtered list (even numbers): [2, 4, 6, 8, 10]\n"
     ]
    }
   ],
   "source": [
    "#23How can you use the \"filter()\" function with if-else statements to filter elements from a list?\n",
    "#The filter() function is a built-in Python function that is used to filter elements of an iterable (like a list) based on a given function. \n",
    "#The general syntax of the filter() function is:\n",
    "# Function to filter even numbers from a list\n",
    "def filter_even_numbers(num):\n",
    "    return num % 2 == 0\n",
    "\n",
    "# Sample list of numbers\n",
    "numbers = [1, 2, 3, 4, 5, 6, 7, 8, 9, 10]\n",
    "\n",
    "# Use filter() with the function to filter even numbers\n",
    "filtered_numbers = filter(filter_even_numbers, numbers)\n",
    "\n",
    "# Convert the filtered_numbers iterator to a list for printing\n",
    "result_list = list(filtered_numbers)\n",
    "\n",
    "# Print the result\n",
    "print(\"Original list:\", numbers)\n",
    "print(\"Filtered list (even numbers):\", result_list)\n",
    "\n"
   ]
  },
  {
   "cell_type": "code",
   "execution_count": 14,
   "id": "8e554b4a-7852-4a3a-ba97-0178cf2999c9",
   "metadata": {},
   "outputs": [
    {
     "name": "stdin",
     "output_type": "stream",
     "text": [
      "Enter a number:  2\n"
     ]
    },
    {
     "name": "stdout",
     "output_type": "stream",
     "text": [
      "2 is a prime number.\n"
     ]
    }
   ],
   "source": [
    "#24Write a Python program to determine if a given number is prime or not using if-else.\n",
    "# Function to check if a number is prime\n",
    "def is_prime(number):\n",
    "    if number < 2:\n",
    "        return False\n",
    "    for i in range(2, int(number**0.5) + 1):\n",
    "        if number % i == 0:\n",
    "            return False\n",
    "    return True\n",
    "\n",
    "# Get user input for the number\n",
    "number = int(input(\"Enter a number: \"))\n",
    "\n",
    "# Check if the number is prime using the function\n",
    "if is_prime(number):\n",
    "    print(f\"{number} is a prime number.\")\n",
    "else:\n",
    "    print(f\"{number} is not a prime number.\")\n"
   ]
  },
  {
   "cell_type": "code",
   "execution_count": 15,
   "id": "1b61a5f1-8a95-4528-ab92-12d9f48061ad",
   "metadata": {
    "tags": []
   },
   "outputs": [
    {
     "name": "stdout",
     "output_type": "stream",
     "text": [
      "Original list: [1, 2, 3, 4, 5]\n",
      "Squared list: [1, 4, 9, 16, 25]\n"
     ]
    }
   ],
   "source": [
    "#map\n",
    "#1explain the purpose of the `map()` function in Python and provide an example of how it can be used to apply a function to each element of an iterable\n",
    "#The map() function in Python is a built-in function used to apply a specified function to each item in an iterable (such as a list) and returns a new\n",
    "#iterable containing the results\n",
    "# Function to square a number\n",
    "def square(x):\n",
    "    return x**2\n",
    "\n",
    "# List of numbers\n",
    "numbers = [1, 2, 3, 4, 5]\n",
    "\n",
    "# Use map() to square each element in the list\n",
    "squared_numbers = map(square, numbers)\n",
    "\n",
    "# Convert the result to a list for printing\n",
    "result_list = list(squared_numbers)\n",
    "\n",
    "# Print the result\n",
    "print(\"Original list:\", numbers)\n",
    "print(\"Squared list:\", result_list)\n"
   ]
  },
  {
   "cell_type": "code",
   "execution_count": 16,
   "id": "75556347-97b5-452f-a422-ef1685097201",
   "metadata": {
    "tags": []
   },
   "outputs": [
    {
     "name": "stdout",
     "output_type": "stream",
     "text": [
      "Original list: [1, 2, 3, 4, 5]\n",
      "Squared list: [1, 4, 9, 16, 25]\n"
     ]
    }
   ],
   "source": [
    "#2Write a Python program that uses the `map()` function to square each element of a list of numbers.\n",
    "# Function to square a number\n",
    "def square(x):\n",
    "    return x**2\n",
    "\n",
    "# List of numbers\n",
    "numbers = [1, 2, 3, 4, 5]\n",
    "\n",
    "# Use map() to square each element in the list\n",
    "squared_numbers = map(square, numbers)\n",
    "\n",
    "# Convert the result to a list for printing\n",
    "result_list = list(squared_numbers)\n",
    "\n",
    "# Print the result\n",
    "print(\"Original list:\", numbers)\n",
    "print(\"Squared list:\", result_list)\n"
   ]
  },
  {
   "cell_type": "code",
   "execution_count": null,
   "id": "063c5b91-fc00-44e0-bb25-9fc41625f193",
   "metadata": {},
   "outputs": [],
   "source": [
    "#3How does the `map()` function differ from a list comprehension in Python, and when would you choose one over the other?\n",
    "The map() function and list comprehensions in Python are both ways to apply a function to each element of an iterable,\n",
    "but they have some differences in terms of syntax and use cases.\n",
    "\n",
    "1.Syntax:\n",
    "\n",
    "map():\n",
    "\n",
    "map(function, iterable)\n",
    "List Comprehension:\n",
    "[expression for item in iterable]\n",
    "2.Return Type:\n",
    "\n",
    "map() returns a map object (an iterable), and you often need to convert it to a list or another iterable type.\n",
    "List comprehensions directly return a list.\n",
    "3.Readability:\n",
    "\n",
    "map() may be less concise and readable for simple operations because it requires a separate function definition.\n",
    "List comprehensions are often considered more readable and expressive for straightforward transformations.\n",
    "4.Use Cases:\n",
    "\n",
    "map() is useful when you already have a function defined, especially if the function is more complex and reusable.\n",
    "List comprehensions are concise and convenient for simple operations where you don't need to define a separate function.\n",
    "\n",
    "\n"
   ]
  },
  {
   "cell_type": "code",
   "execution_count": 127,
   "id": "49b5ac53-8d25-4f80-a2d5-c5ee2628b556",
   "metadata": {
    "tags": []
   },
   "outputs": [
    {
     "name": "stdout",
     "output_type": "stream",
     "text": [
      "[1, 4, 9, 16, 25]\n"
     ]
    }
   ],
   "source": [
    "#Here's an example to illustrate the difference:\n",
    "\n",
    "#Using map():\n",
    "# Function to square a number\n",
    "def square(x):\n",
    "    return x**2\n",
    "\n",
    "# List of numbers\n",
    "numbers = [1, 2, 3, 4, 5]\n",
    "\n",
    "# Using map()\n",
    "squared_numbers = map(square, numbers)\n",
    "result_list = list(squared_numbers)\n",
    "print(result_list)"
   ]
  },
  {
   "cell_type": "code",
   "execution_count": 128,
   "id": "3fae3d24-2115-4976-ae0d-13bfd36c02dd",
   "metadata": {
    "tags": []
   },
   "outputs": [
    {
     "name": "stdout",
     "output_type": "stream",
     "text": [
      "[1, 4, 9, 16, 25]\n"
     ]
    }
   ],
   "source": [
    "#Using list comprehension:\n",
    "\n",
    "# List of numbers\n",
    "numbers = [1, 2, 3, 4, 5]\n",
    "\n",
    "# Using list comprehension\n",
    "result_list = [x**2 for x in numbers]\n",
    "print(result_list)"
   ]
  },
  {
   "cell_type": "code",
   "execution_count": null,
   "id": "ede46d63-41be-4f5c-9727-8f8b3ced17c3",
   "metadata": {},
   "outputs": [],
   "source": [
    "In this example, the result is the same, but the list comprehension is more concise. Generally, you might choose map() when\n",
    "you have a function already defined or when the transformation is more complex, while list comprehensions are preferred for \n",
    "simpler, one-off operations. The choice often comes down to personal preference and the specific requirements of your code\n"
   ]
  },
  {
   "cell_type": "code",
   "execution_count": 129,
   "id": "432b3934-0f09-4aab-a31a-f05d30058aef",
   "metadata": {
    "tags": []
   },
   "outputs": [
    {
     "name": "stdout",
     "output_type": "stream",
     "text": [
      "Original names: ['Alice', 'Bob', 'Charlie', 'David']\n",
      "Uppercase names: ['ALICE', 'BOB', 'CHARLIE', 'DAVID']\n"
     ]
    }
   ],
   "source": [
    "#4Create a Python program that uses the `map()` function to convert a list of names to uppercase.\n",
    "# List of names\n",
    "names = [\"Alice\", \"Bob\", \"Charlie\", \"David\"]\n",
    "\n",
    "# Using map() to convert names to uppercase\n",
    "uppercase_names = map(str.upper, names)\n",
    "\n",
    "# Convert the result to a list for printing\n",
    "result_list = list(uppercase_names)\n",
    "\n",
    "# Print the result\n",
    "print(\"Original names:\", names)\n",
    "print(\"Uppercase names:\", result_list)\n"
   ]
  },
  {
   "cell_type": "code",
   "execution_count": 130,
   "id": "fbe1623c-d996-48f1-8936-e405f293c16e",
   "metadata": {
    "tags": []
   },
   "outputs": [
    {
     "name": "stdout",
     "output_type": "stream",
     "text": [
      "Original strings: ['Hello', 'World', 'Python', 'Programming', 'Language']\n",
      "Word lengths: [5, 5, 6, 11, 8]\n"
     ]
    }
   ],
   "source": [
    "#5Write a Python program that uses the `map()` function to calculate the length of each word in a list of strings.\n",
    "# List of strings\n",
    "strings_list = [\"Hello\", \"World\", \"Python\", \"Programming\", \"Language\"]\n",
    "\n",
    "# Using map() to calculate the length of each word\n",
    "word_lengths = map(len, strings_list)\n",
    "\n",
    "# Convert the result to a list for printing\n",
    "result_list = list(word_lengths)\n",
    "\n",
    "# Print the result\n",
    "print(\"Original strings:\", strings_list)\n",
    "print(\"Word lengths:\", result_list)\n"
   ]
  },
  {
   "cell_type": "code",
   "execution_count": 131,
   "id": "affc0f83-b55a-477c-af25-e2ec9bafbfa5",
   "metadata": {
    "tags": []
   },
   "outputs": [
    {
     "name": "stdout",
     "output_type": "stream",
     "text": [
      "List 1: [1, 2, 3, 4]\n",
      "List 2: [5, 6, 7, 8]\n",
      "Result after adding corresponding elements: [6, 8, 10, 12]\n"
     ]
    }
   ],
   "source": [
    "#6How can you use the `map()` function to apply a custom function to elements of multiple lists simultaneously in Python?\n",
    "# Custom function to add corresponding elements of two lists\n",
    "def add_elements(x, y):\n",
    "    return x + y\n",
    "\n",
    "# Two lists of numbers\n",
    "list1 = [1, 2, 3, 4]\n",
    "list2 = [5, 6, 7, 8]\n",
    "\n",
    "# Use map() to apply the custom function to elements of both lists\n",
    "result = map(add_elements, list1, list2)\n",
    "\n",
    "# Convert the result to a list for printing\n",
    "result_list = list(result)\n",
    "\n",
    "# Print the result\n",
    "print(\"List 1:\", list1)\n",
    "print(\"List 2:\", list2)\n",
    "print(\"Result after adding corresponding elements:\", result_list)\n"
   ]
  },
  {
   "cell_type": "code",
   "execution_count": 132,
   "id": "cf7648e6-cc31-46ac-98cd-fc15d08d3ece",
   "metadata": {
    "tags": []
   },
   "outputs": [
    {
     "name": "stdout",
     "output_type": "stream",
     "text": [
      "Temperatures in Celsius: [0, 10, 20, 30, 40]\n",
      "Temperatures in Fahrenheit: [32.0, 50.0, 68.0, 86.0, 104.0]\n"
     ]
    }
   ],
   "source": [
    "#7 Create a Python program that uses `map()` to convert a list of temperatures from Celsius to Fahrenheit.\n",
    "# Custom function to convert Celsius to Fahrenheit\n",
    "def celsius_to_fahrenheit(celsius):\n",
    "    return (celsius * 9/5) + 32\n",
    "\n",
    "# List of temperatures in Celsius\n",
    "temperatures_celsius = [0, 10, 20, 30, 40]\n",
    "\n",
    "# Use map() to apply the custom function to convert temperatures\n",
    "temperatures_fahrenheit = map(celsius_to_fahrenheit, temperatures_celsius)\n",
    "\n",
    "# Convert the result to a list for printing\n",
    "result_list = list(temperatures_fahrenheit)\n",
    "\n",
    "# Print the result\n",
    "print(\"Temperatures in Celsius:\", temperatures_celsius)\n",
    "print(\"Temperatures in Fahrenheit:\", result_list)\n"
   ]
  },
  {
   "cell_type": "code",
   "execution_count": 133,
   "id": "3e50a40a-5fb2-44cf-9ee3-5be756c0b413",
   "metadata": {
    "tags": []
   },
   "outputs": [
    {
     "name": "stdout",
     "output_type": "stream",
     "text": [
      "Original numbers: [3.14, 2.718, 1.414, 0.5, 4.9]\n",
      "Rounded integers: [3, 3, 1, 0, 5]\n"
     ]
    }
   ],
   "source": [
    "#8Write a Python program that uses the `map()` function to round each element of a list of floating-point numbers to the nearest integer.\n",
    "# List of floating-point numbers\n",
    "float_numbers = [3.14, 2.718, 1.414, 0.5, 4.9]\n",
    "\n",
    "# Use map() to round each element to the nearest integer\n",
    "rounded_integers = map(round, float_numbers)\n",
    "\n",
    "# Convert the result to a list for printing\n",
    "result_list = list(rounded_integers)\n",
    "\n",
    "# Print the result\n",
    "print(\"Original numbers:\", float_numbers)\n",
    "print(\"Rounded integers:\", result_list)\n"
   ]
  },
  {
   "cell_type": "code",
   "execution_count": null,
   "id": "2b6b0cfc-5fea-43f8-97fc-90b91b11af74",
   "metadata": {},
   "outputs": [],
   "source": [
    "#Reduce :-\n",
    "#1What is the `reduce()` function in Python, and what module should you import to use it? Provide an example of its basic usage.\n",
    "The reduce() function is part of the functools module in Python. It is used for reducing a sequence of elements to a single\n",
    "accumulated result by applying a specified function cumulatively to the elements.\n",
    "\n",
    "Here's the basic syntax of the reduce() function:\n",
    "\n",
    "functools.reduce(function, iterable[, initializer])\n",
    ".function: The function to be applied to the elements. It should take two arguments, and it will be called with the cumulative\n",
    "result and the next element in the iterable.\n",
    ".iterable: The iterable (e.g., a list) whose elements will be processed.\n",
    ".initializer: Optional. If provided, it is used as the initial value for the cumulative result. If not provided, the first two\n",
    "elements of the iterable are used as the initial values.\n"
   ]
  },
  {
   "cell_type": "code",
   "execution_count": 134,
   "id": "e73a4cc7-96a1-4c3b-9f77-ab3c2c3bfd02",
   "metadata": {
    "tags": []
   },
   "outputs": [
    {
     "name": "stdout",
     "output_type": "stream",
     "text": [
      "List of numbers: [1, 2, 3, 4, 5]\n",
      "Product of numbers: 120\n"
     ]
    }
   ],
   "source": [
    "from functools import reduce\n",
    "\n",
    "# Custom function to calculate the product of two numbers\n",
    "def multiply(x, y):\n",
    "    return x * y\n",
    "\n",
    "# List of numbers\n",
    "numbers = [1, 2, 3, 4, 5]\n",
    "\n",
    "# Use reduce() to find the product of elements in the list\n",
    "product = reduce(multiply, numbers)\n",
    "\n",
    "# Print the result\n",
    "print(\"List of numbers:\", numbers)\n",
    "print(\"Product of numbers:\", product)\n"
   ]
  },
  {
   "cell_type": "code",
   "execution_count": 135,
   "id": "e352accd-d599-4769-b7e2-e6a65c3c50a8",
   "metadata": {
    "tags": []
   },
   "outputs": [
    {
     "name": "stdout",
     "output_type": "stream",
     "text": [
      "List of numbers: [1, 2, 3, 4, 5]\n",
      "Product of numbers: 120\n"
     ]
    }
   ],
   "source": [
    "#2Write a Python program that uses the `reduce()` function to find the product of all elements in a list\n",
    "from functools import reduce\n",
    "\n",
    "# Custom function to calculate the product of two numbers\n",
    "def multiply(x, y):\n",
    "    return x * y\n",
    "\n",
    "# List of numbers\n",
    "numbers = [1, 2, 3, 4, 5]\n",
    "\n",
    "# Use reduce() to find the product of elements in the list\n",
    "product = reduce(multiply, numbers)\n",
    "\n",
    "# Print the result\n",
    "print(\"List of numbers:\", numbers)\n",
    "print(\"Product of numbers:\", product)\n"
   ]
  },
  {
   "cell_type": "code",
   "execution_count": 136,
   "id": "b730ab3d-8e52-4f90-a99b-6ce311484e4b",
   "metadata": {
    "tags": []
   },
   "outputs": [
    {
     "name": "stdout",
     "output_type": "stream",
     "text": [
      "List of numbers: [7, 2, 11, 4, 9, 5]\n",
      "Maximum element: 11\n"
     ]
    }
   ],
   "source": [
    "#3Create a Python program that uses `reduce()` to find the maximum element in a list of numbers.\n",
    "from functools import reduce\n",
    "\n",
    "# Custom function to find the maximum of two numbers\n",
    "def find_max(x, y):\n",
    "    return max(x, y)\n",
    "\n",
    "# List of numbers\n",
    "numbers = [7, 2, 11, 4, 9, 5]\n",
    "\n",
    "# Use reduce() to find the maximum element in the list\n",
    "max_number = reduce(find_max, numbers)\n",
    "\n",
    "# Print the result\n",
    "print(\"List of numbers:\", numbers)\n",
    "print(\"Maximum element:\", max_number)\n"
   ]
  },
  {
   "cell_type": "code",
   "execution_count": 137,
   "id": "d85a4578-5631-4f5c-831f-0be322890264",
   "metadata": {
    "tags": []
   },
   "outputs": [
    {
     "name": "stdout",
     "output_type": "stream",
     "text": [
      "List of strings: ['Hello', ', ', 'world', '!']\n",
      "Concatenated string: Hello, world!\n"
     ]
    }
   ],
   "source": [
    "#4 How can you use the `reduce()` function to concatenate a list of strings into a single string?\n",
    "from functools import reduce\n",
    "\n",
    "# Custom function to concatenate two strings\n",
    "def concatenate_strings(x, y):\n",
    "    return x + y\n",
    "\n",
    "# List of strings\n",
    "string_list = [\"Hello\", \", \", \"world\", \"!\"]\n",
    "\n",
    "# Use reduce() to concatenate the list of strings\n",
    "concatenated_string = reduce(concatenate_strings, string_list)\n",
    "\n",
    "# Print the result\n",
    "print(\"List of strings:\", string_list)\n",
    "print(\"Concatenated string:\", concatenated_string)\n"
   ]
  },
  {
   "cell_type": "code",
   "execution_count": 138,
   "id": "a927f66b-a38d-4620-bdf5-176d307a3a51",
   "metadata": {
    "tags": []
   },
   "outputs": [
    {
     "name": "stdin",
     "output_type": "stream",
     "text": [
      "Enter a number:  6\n"
     ]
    },
    {
     "name": "stdout",
     "output_type": "stream",
     "text": [
      "The factorial of 6 is: 720\n"
     ]
    }
   ],
   "source": [
    "#5Write a Python program that calculates the factorial of a number using the `reduce()` function.\n",
    "from functools import reduce\n",
    "\n",
    "# Custom function to calculate the factorial of a number\n",
    "def calculate_factorial(acc, num):\n",
    "    return acc * num\n",
    "\n",
    "# Function to calculate factorial using reduce()\n",
    "def factorial(n):\n",
    "    if n < 0:\n",
    "        return \"Factorial is undefined for negative numbers.\"\n",
    "    elif n == 0:\n",
    "        return 1\n",
    "    else:\n",
    "        return reduce(calculate_factorial, range(1, n + 1))\n",
    "\n",
    "# Get user input for the number\n",
    "number = int(input(\"Enter a number: \"))\n",
    "\n",
    "# Calculate and print the factorial\n",
    "result = factorial(number)\n",
    "print(f\"The factorial of {number} is: {result}\")\n"
   ]
  },
  {
   "cell_type": "code",
   "execution_count": 139,
   "id": "7c310906-2544-4a58-b8ed-eb7e76fd38ae",
   "metadata": {
    "tags": []
   },
   "outputs": [
    {
     "name": "stdout",
     "output_type": "stream",
     "text": [
      "List of numbers: [12, 18, 24, 36]\n",
      "GCD: 6\n"
     ]
    }
   ],
   "source": [
    "#6Create a Python program that uses `reduce()` to find the GCD (Greatest Common Divisor) of a list of numbers.\n",
    "from functools import reduce\n",
    "from math import gcd  # Import the gcd function from the math module\n",
    "\n",
    "# Custom function to calculate the GCD of two numbers\n",
    "def calculate_gcd(x, y):\n",
    "    return gcd(x, y)\n",
    "\n",
    "# Function to calculate GCD using reduce()\n",
    "def find_gcd(numbers):\n",
    "    if len(numbers) < 2:\n",
    "        return \"GCD is undefined for less than two numbers.\"\n",
    "    else:\n",
    "        return reduce(calculate_gcd, numbers)\n",
    "\n",
    "# List of numbers\n",
    "number_list = [12, 18, 24, 36]\n",
    "\n",
    "# Calculate and print the GCD\n",
    "result = find_gcd(number_list)\n",
    "print(\"List of numbers:\", number_list)\n",
    "print(\"GCD:\", result)\n",
    "\n",
    "\n"
   ]
  },
  {
   "cell_type": "code",
   "execution_count": 140,
   "id": "8e202639-6bd1-4296-8533-9987209c6bd3",
   "metadata": {
    "tags": []
   },
   "outputs": [
    {
     "name": "stdin",
     "output_type": "stream",
     "text": [
      "Enter a number:  23\n"
     ]
    },
    {
     "name": "stdout",
     "output_type": "stream",
     "text": [
      "The sum of digits in 23 is: 5\n"
     ]
    }
   ],
   "source": [
    "#7Write a Python program that uses the `reduce()` function to find the sum of the digits of a given number.\n",
    "from functools import reduce\n",
    "\n",
    "# Custom function to calculate the sum of digits\n",
    "def calculate_digit_sum(acc, digit):\n",
    "    return acc + int(digit)\n",
    "\n",
    "# Function to calculate the sum of digits using reduce()\n",
    "def digit_sum(number):\n",
    "    # Convert the number to a string to iterate over its digits\n",
    "    number_str = str(abs(number))\n",
    "    \n",
    "    # Use reduce() to calculate the sum of digits\n",
    "    return reduce(calculate_digit_sum, number_str, 0)\n",
    "\n",
    "# Get user input for the number\n",
    "number = int(input(\"Enter a number: \"))\n",
    "\n",
    "# Calculate and print the sum of digits\n",
    "result = digit_sum(number)\n",
    "print(f\"The sum of digits in {number} is: {result}\")\n"
   ]
  },
  {
   "cell_type": "code",
   "execution_count": null,
   "id": "c51553d2-55ba-4a62-81c1-c55a0ad29bf2",
   "metadata": {},
   "outputs": [],
   "source": [
    "#Filter :-\n",
    "\n",
    "\n",
    "#1Explain the purpose of the `filter()` function in Python and provide an example of how it can be used to filter elements from an iterable.\n",
    "The filter() function in Python is a built-in function that is used to filter elements from an iterable (such as a list) based on a specified\n",
    "function. It creates a new iterable containing only the elements for which the function returns True.\n",
    "\n",
    "Here's the basic syntax of the filter() function:\n",
    "\n",
    "filter(function, iterable)\n",
    "function: A function that tests each element of the iterable. It should return True for elements to be included in the result.\n",
    "iterable: The iterable (e.g., a list) from which elements are to be filtered.\n"
   ]
  },
  {
   "cell_type": "code",
   "execution_count": 141,
   "id": "521d0ad4-ede8-4b9f-83a4-fd01930af24b",
   "metadata": {
    "tags": []
   },
   "outputs": [
    {
     "name": "stdout",
     "output_type": "stream",
     "text": [
      "Original list: [1, 2, 3, 4, 5, 6, 7, 8, 9, 10]\n",
      "Even numbers: [2, 4, 6, 8, 10]\n"
     ]
    }
   ],
   "source": [
    "# Custom function to filter even numbers\n",
    "def is_even(number):\n",
    "    return number % 2 == 0\n",
    "\n",
    "# List of numbers\n",
    "numbers = [1, 2, 3, 4, 5, 6, 7, 8, 9, 10]\n",
    "\n",
    "# Use filter() to filter even numbers from the list\n",
    "even_numbers = filter(is_even, numbers)\n",
    "\n",
    "# Convert the result to a list for printing\n",
    "result_list = list(even_numbers)\n",
    "\n",
    "# Print the result\n",
    "print(\"Original list:\", numbers)\n",
    "print(\"Even numbers:\", result_list)\n"
   ]
  },
  {
   "cell_type": "code",
   "execution_count": 142,
   "id": "28c258b6-1d37-4821-9a81-4863e7278e9a",
   "metadata": {
    "tags": []
   },
   "outputs": [
    {
     "name": "stdout",
     "output_type": "stream",
     "text": [
      "Original list: [1, 2, 3, 4, 5, 6, 7, 8, 9, 10]\n",
      "Even numbers: [2, 4, 6, 8, 10]\n"
     ]
    }
   ],
   "source": [
    "#2Write a Python program that uses the `filter()` function to select even numbers from a list of integers\n",
    "# Custom function to filter even numbers\n",
    "def is_even(number):\n",
    "    return number % 2 == 0\n",
    "\n",
    "# List of numbers\n",
    "numbers = [1, 2, 3, 4, 5, 6, 7, 8, 9, 10]\n",
    "\n",
    "# Use filter() to select even numbers from the list\n",
    "even_numbers = filter(is_even, numbers)\n",
    "\n",
    "# Convert the result to a list for printing\n",
    "result_list = list(even_numbers)\n",
    "\n",
    "# Print the result\n",
    "print(\"Original list:\", numbers)\n",
    "print(\"Even numbers:\", result_list)\n"
   ]
  },
  {
   "cell_type": "code",
   "execution_count": 143,
   "id": "107fb07c-7ebd-4bff-95c0-5c77284c5b65",
   "metadata": {
    "tags": []
   },
   "outputs": [
    {
     "name": "stdout",
     "output_type": "stream",
     "text": [
      "Original names: ['Alice', 'Bob', 'Charlie', 'David', 'Eve']\n",
      "Names starting with 'C': ['Charlie']\n"
     ]
    }
   ],
   "source": [
    "#3Create a Python program that uses the `filter()` function to select names that start with a specific letter from a list of strings.\n",
    "# Custom function to filter names starting with a specific letter\n",
    "def starts_with_letter(name, letter):\n",
    "    return name.startswith(letter)\n",
    "\n",
    "# List of names\n",
    "names = [\"Alice\", \"Bob\", \"Charlie\", \"David\", \"Eve\"]\n",
    "\n",
    "# Specify the letter to filter names\n",
    "target_letter = \"C\"\n",
    "\n",
    "# Use filter() to select names starting with the specified letter\n",
    "selected_names = filter(lambda x: starts_with_letter(x, target_letter), names)\n",
    "\n",
    "# Convert the result to a list for printing\n",
    "result_list = list(selected_names)\n",
    "\n",
    "# Print the result\n",
    "print(\"Original names:\", names)\n",
    "print(f\"Names starting with '{target_letter}':\", result_list)\n"
   ]
  },
  {
   "cell_type": "code",
   "execution_count": 144,
   "id": "4b172185-144d-4be6-8bcb-eaf5da939fe6",
   "metadata": {
    "tags": []
   },
   "outputs": [
    {
     "name": "stdout",
     "output_type": "stream",
     "text": [
      "Original numbers: [2, 3, 5, 7, 11, 13, 17, 19, 23, 29, 31, 37, 41, 43, 47]\n",
      "Prime numbers: [2, 3, 5, 7, 11, 13, 17, 19, 23, 29, 31, 37, 41, 43, 47]\n"
     ]
    }
   ],
   "source": [
    "#4Write a Python program that uses the `filter()` function to select prime numbers from a list of integers\n",
    "# Custom function to check if a number is prime\n",
    "def is_prime(number):\n",
    "    if number < 2:\n",
    "        return False\n",
    "    for i in range(2, int(number**0.5) + 1):\n",
    "        if number % i == 0:\n",
    "            return False\n",
    "    return True\n",
    "\n",
    "# List of numbers\n",
    "numbers = [2, 3, 5, 7, 11, 13, 17, 19, 23, 29, 31, 37, 41, 43, 47]\n",
    "\n",
    "# Use filter() to select prime numbers from the list\n",
    "prime_numbers = filter(is_prime, numbers)\n",
    "\n",
    "# Convert the result to a list for printing\n",
    "result_list = list(prime_numbers)\n",
    "\n",
    "# Print the result\n",
    "print(\"Original numbers:\", numbers)\n",
    "print(\"Prime numbers:\", result_list)\n"
   ]
  },
  {
   "cell_type": "code",
   "execution_count": 145,
   "id": "99a4245e-8342-45e8-b747-356484c27f0e",
   "metadata": {
    "tags": []
   },
   "outputs": [
    {
     "name": "stdout",
     "output_type": "stream",
     "text": [
      "Original list: [1, None, 3, None, 5, 6, None, 8, None]\n",
      "List without None values: [1, 3, 5, 6, 8]\n"
     ]
    }
   ],
   "source": [
    "#5how can you use the `filter()` function to remove None values from a list in Python?\n",
    "# List with None values\n",
    "mixed_list = [1, None, 3, None, 5, 6, None, 8, None]\n",
    "\n",
    "# Custom function to filter non-None values\n",
    "def remove_none(value):\n",
    "    return value is not None\n",
    "\n",
    "# Use filter() to remove None values from the list\n",
    "filtered_list = filter(remove_none, mixed_list)\n",
    "\n",
    "# Convert the result to a list for printing\n",
    "result_list = list(filtered_list)\n",
    "\n",
    "# Print the result\n",
    "print(\"Original list:\", mixed_list)\n",
    "print(\"List without None values:\", result_list)\n",
    "\n"
   ]
  },
  {
   "cell_type": "code",
   "execution_count": 146,
   "id": "abab7101-f85b-4567-a223-8cc49808369d",
   "metadata": {
    "tags": []
   },
   "outputs": [
    {
     "name": "stdout",
     "output_type": "stream",
     "text": [
      "Original list of words: ['apple', 'banana', 'grape', 'kiwi', 'orange', 'strawberry']\n",
      "Words longer than 5 characters: ['banana', 'orange', 'strawberry']\n"
     ]
    }
   ],
   "source": [
    "#6Create a Python program that uses `filter()` to select words longer than a certain length from a list of strings.\n",
    "# List of strings\n",
    "words = [\"apple\", \"banana\", \"grape\", \"kiwi\", \"orange\", \"strawberry\"]\n",
    "\n",
    "# Specify the minimum length for filtering\n",
    "min_length = 5\n",
    "\n",
    "# Custom function to filter words longer than a certain length\n",
    "def is_long_word(word):\n",
    "    return len(word) > min_length\n",
    "\n",
    "# Use filter() to select words longer than the specified length\n",
    "selected_words = filter(is_long_word, words)\n",
    "\n",
    "# Convert the result to a list for printing\n",
    "result_list = list(selected_words)\n",
    "\n",
    "# Print the result\n",
    "print(\"Original list of words:\", words)\n",
    "print(f\"Words longer than {min_length} characters:\", result_list)\n",
    "\n",
    "\n"
   ]
  },
  {
   "cell_type": "code",
   "execution_count": 147,
   "id": "8fd82bff-9a6c-484f-9c5f-fc48a30c58a5",
   "metadata": {
    "tags": []
   },
   "outputs": [
    {
     "name": "stdout",
     "output_type": "stream",
     "text": [
      "Original list of values: [15, 7, 23, 10, 30, 18, 5, 12]\n",
      "Values greater than 15: [23, 30, 18]\n"
     ]
    }
   ],
   "source": [
    "#7rite a Python program that uses the `filter()` function to select elements greater than a specified threshold from a list of values.\n",
    "# List of values\n",
    "values = [15, 7, 23, 10, 30, 18, 5, 12]\n",
    "\n",
    "# Specify the threshold for filtering\n",
    "threshold = 15\n",
    "\n",
    "# Custom function to filter elements greater than a specified threshold\n",
    "def is_greater_than_threshold(value):\n",
    "    return value > threshold\n",
    "\n",
    "# Use filter() to select elements greater than the specified threshold\n",
    "selected_values = filter(is_greater_than_threshold, values)\n",
    "\n",
    "# Convert the result to a list for printing\n",
    "result_list = list(selected_values)\n",
    "\n",
    "# Print the result\n",
    "print(\"Original list of values:\", values)\n",
    "print(f\"Values greater than {threshold}:\", result_list)\n",
    "\n",
    "\n"
   ]
  },
  {
   "cell_type": "code",
   "execution_count": null,
   "id": "383f4223-89fd-451e-9339-1df4f231f5f2",
   "metadata": {},
   "outputs": [],
   "source": [
    "Recursion:-\n",
    "\n",
    "1Explain the concept of recursion in Python. How does it differ from iteration?\n",
    "Recursion and iteration are both programming concepts used for repetitive tasks, but they differ in how they approach repetition.\n",
    "\n",
    "Recursion is a programming technique where a function calls itself in order to solve a smaller instance of the same problem.\n",
    "In other words, a recursive function is a function that, in the process of solving a problem, calls itself with a smaller input, \n",
    "and this process continues until a base case is reached. The base case is the condition that stops the recursion and provides\n",
    "the result without further recursive calls. Recursion often leads to concise and elegant solutions to certain types of problems.\n",
    "\n"
   ]
  },
  {
   "cell_type": "code",
   "execution_count": 148,
   "id": "f4ffca49-c4ff-4b3f-91b0-4c14957392af",
   "metadata": {
    "tags": []
   },
   "outputs": [
    {
     "name": "stdout",
     "output_type": "stream",
     "text": [
      "Factorial of 5: 120\n"
     ]
    }
   ],
   "source": [
    "def factorial(n):\n",
    "    # Base case: factorial of 0 or 1 is 1\n",
    "    if n == 0 or n == 1:\n",
    "        return 1\n",
    "    # Recursive case: n! = n * (n-1)!\n",
    "    else:\n",
    "        return n * factorial(n - 1)\n",
    "\n",
    "# Example usage\n",
    "result = factorial(5)\n",
    "print(\"Factorial of 5:\", result)\n"
   ]
  },
  {
   "cell_type": "code",
   "execution_count": 150,
   "id": "f5ebaaaf-01ac-43bb-bfb8-0a18f1dd5a5b",
   "metadata": {
    "tags": []
   },
   "outputs": [
    {
     "name": "stdout",
     "output_type": "stream",
     "text": [
      "Factorial of 5: 120\n"
     ]
    }
   ],
   "source": [
    "#2Write a Python program to calculate the factorial of a number using recursion.\n",
    "def factorial(n):\n",
    "    # Base case: factorial of 0 or 1 is 1\n",
    "    if n == 0 or n == 1:\n",
    "        return 1\n",
    "    # Recursive case: n! = n * (n-1)!\n",
    "    else:\n",
    "        return n * factorial(n - 1)\n",
    "\n",
    "# Example usage\n",
    "result = factorial(5)\n",
    "print(\"Factorial of 5:\", result)\n"
   ]
  },
  {
   "cell_type": "code",
   "execution_count": 151,
   "id": "2d74108b-cb32-49cc-b440-c41e1ab868f3",
   "metadata": {
    "tags": []
   },
   "outputs": [
    {
     "name": "stdout",
     "output_type": "stream",
     "text": [
      "The 6th Fibonacci number is: 8\n"
     ]
    }
   ],
   "source": [
    "#3Create a recursive Python function to find the nth Fibonacci number.\n",
    "def fibonacci(n):\n",
    "    # Base cases: 0th Fibonacci number is 0, and 1st Fibonacci number is 1\n",
    "    if n == 0:\n",
    "        return 0\n",
    "    elif n == 1:\n",
    "        return 1\n",
    "    # Recursive case: Fn = F(n-1) + F(n-2)\n",
    "    else:\n",
    "        return fibonacci(n - 1) + fibonacci(n - 2)\n",
    "\n",
    "# Example usage\n",
    "n = 6  # Replace with the desired value of n\n",
    "result = fibonacci(n)\n",
    "print(f\"The {n}th Fibonacci number is: {result}\")\n"
   ]
  },
  {
   "cell_type": "code",
   "execution_count": 152,
   "id": "a3585615-56c4-4931-a87f-9751af7308df",
   "metadata": {
    "tags": []
   },
   "outputs": [
    {
     "name": "stdout",
     "output_type": "stream",
     "text": [
      "Sum of elements in the list: 15\n"
     ]
    }
   ],
   "source": [
    "#4 Write a recursive Python function to calculate the sum of all elements in a list.\n",
    "def list_sum_recursive(lst):\n",
    "    # Base case: an empty list has sum 0\n",
    "    if not lst:\n",
    "        return 0\n",
    "    # Recursive case: sum of the first element and the sum of the rest of the list\n",
    "    else:\n",
    "        return lst[0] + list_sum_recursive(lst[1:])\n",
    "\n",
    "# Example usage\n",
    "numbers = [1, 2, 3, 4, 5]\n",
    "\n",
    "result = list_sum_recursive(numbers)\n",
    "print(\"Sum of elements in the list:\", result)\n",
    "\n",
    "\n"
   ]
  },
  {
   "cell_type": "code",
   "execution_count": null,
   "id": "00ea1833-5d97-4c94-9c62-7984927c9210",
   "metadata": {},
   "outputs": [],
   "source": [
    "#5How can you prevent a recursive function from running indefinitely, causing a stack overflow error?\n",
    "To prevent a recursive function from running indefinitely and causing a stack overflow error, you can incorporate\n",
    "a termination condition or base case that ensures the recursion stops at some point. This base case should be \n",
    "designed to be reached, and it serves as a stopping criterion for the recursive calls."
   ]
  },
  {
   "cell_type": "code",
   "execution_count": 155,
   "id": "db6020fb-5926-4e68-a43f-33c4a82f04d7",
   "metadata": {
    "tags": []
   },
   "outputs": [
    {
     "name": "stdout",
     "output_type": "stream",
     "text": [
      "The 5th Fibonacci number is: 5\n"
     ]
    }
   ],
   "source": [
    "def fibonacci(n):\n",
    "    # Base case: 0th Fibonacci number is 0, and 1st Fibonacci number is 1\n",
    "    if n == 0:\n",
    "        return 0\n",
    "    elif n == 1:\n",
    "        return 1\n",
    "    # Recursive case: Fn = F(n-1) + F(n-2)\n",
    "    else:\n",
    "        return fibonacci(n - 1) + fibonacci(n - 2)\n",
    "\n",
    "# Example usage\n",
    "result = fibonacci(5)\n",
    "print(f\"The 5th Fibonacci number is: {result}\")\n"
   ]
  },
  {
   "cell_type": "code",
   "execution_count": 156,
   "id": "7036640c-a38c-4bf2-9a25-bdc29ea11a06",
   "metadata": {
    "tags": []
   },
   "outputs": [
    {
     "name": "stdout",
     "output_type": "stream",
     "text": [
      "The GCD of 48 and 18 is: 6\n"
     ]
    }
   ],
   "source": [
    "#6Create a recursive Python function to find the greatest common divisor (GCD) of two numbers using the Euclidean algorithm.\n",
    "def euclidean_gcd(a, b):\n",
    "    # Base case: GCD(a, 0) = a, GCD(0, b) = b\n",
    "    if b == 0:\n",
    "        return a\n",
    "    # Recursive case: GCD(a, b) = GCD(b, a % b)\n",
    "    else:\n",
    "        return euclidean_gcd(b, a % b)\n",
    "\n",
    "# Example usage\n",
    "num1 = 48\n",
    "num2 = 18\n",
    "\n",
    "result = euclidean_gcd(num1, num2)\n",
    "print(f\"The GCD of {num1} and {num2} is: {result}\")\n"
   ]
  },
  {
   "cell_type": "code",
   "execution_count": 157,
   "id": "1e77d110-2050-4c89-88ae-d5b50d732961",
   "metadata": {
    "tags": []
   },
   "outputs": [
    {
     "name": "stdout",
     "output_type": "stream",
     "text": [
      "Original string: Hello, World!\n",
      "Reversed string: !dlroW ,olleH\n"
     ]
    }
   ],
   "source": [
    "#7Write a recursive Python function to reverse a string.\n",
    "def reverse_string_recursive(s):\n",
    "    # Base case: an empty string or a string with one character is already reversed\n",
    "    if len(s) <= 1:\n",
    "        return s\n",
    "    # Recursive case: reverse the substring excluding the first character and concatenate it with the first character\n",
    "    else:\n",
    "        return s[-1] + reverse_string_recursive(s[:-1])\n",
    "\n",
    "# Example usage\n",
    "original_string = \"Hello, World!\"\n",
    "reversed_string = reverse_string_recursive(original_string)\n",
    "\n",
    "print(f\"Original string: {original_string}\")\n",
    "print(f\"Reversed string: {reversed_string}\")\n",
    "\n",
    "\n"
   ]
  },
  {
   "cell_type": "code",
   "execution_count": 158,
   "id": "60c8470b-de22-429f-88c7-bc7b77daa411",
   "metadata": {
    "tags": []
   },
   "outputs": [
    {
     "name": "stdout",
     "output_type": "stream",
     "text": [
      "2 raised to the power of 3 is: 8\n"
     ]
    }
   ],
   "source": [
    "#8Create a recursive Python function to calculate the power of a number (x^n).\n",
    "def power(x, n):\n",
    "    # Base case: x^0 is 1\n",
    "    if n == 0:\n",
    "        return 1\n",
    "    # Recursive case: x^n = x * x^(n-1)\n",
    "    else:\n",
    "        return x * power(x, n - 1)\n",
    "\n",
    "# Example usage\n",
    "base = 2\n",
    "exponent = 3\n",
    "\n",
    "result = power(base, exponent)\n",
    "print(f\"{base} raised to the power of {exponent} is: {result}\")\n",
    "\n",
    "\n"
   ]
  },
  {
   "cell_type": "code",
   "execution_count": 159,
   "id": "72e71817-2683-42d6-bf6d-3d320a1d5a29",
   "metadata": {
    "tags": []
   },
   "outputs": [
    {
     "name": "stdout",
     "output_type": "stream",
     "text": [
      "All permutations of 'abc': ['abc', 'acb', 'bac', 'bca', 'cab', 'cba']\n"
     ]
    }
   ],
   "source": [
    "#9Write a recursive Python function to find all permutations of a given string.\n",
    "def generate_permutations(s):\n",
    "    # Base case: if the string has only one character, return a list with that character\n",
    "    if len(s) == 1:\n",
    "        return [s]\n",
    "\n",
    "    # Recursive case: generate permutations by fixing each character at the beginning\n",
    "    permutations = []\n",
    "    for i in range(len(s)):\n",
    "        first_char = s[i]\n",
    "        remaining_chars = s[:i] + s[i + 1:]\n",
    "        \n",
    "        # Recursive call to generate permutations for the remaining characters\n",
    "        for perm in generate_permutations(remaining_chars):\n",
    "            permutations.append(first_char + perm)\n",
    "\n",
    "    return permutations\n",
    "\n",
    "# Example usage\n",
    "input_string = \"abc\"\n",
    "result = generate_permutations(input_string)\n",
    "print(f\"All permutations of '{input_string}': {result}\")\n"
   ]
  },
  {
   "cell_type": "code",
   "execution_count": 160,
   "id": "9c7bd459-dde0-4da8-8c28-b2c788c75885",
   "metadata": {
    "tags": []
   },
   "outputs": [
    {
     "name": "stdout",
     "output_type": "stream",
     "text": [
      "The string 'radar' is a palindrome: True\n"
     ]
    }
   ],
   "source": [
    "#10Write a recursive Python function to check if a string is a palindrome.\n",
    "def is_palindrome(s):\n",
    "    # Base case: an empty string or a string with one character is a palindrome\n",
    "    if len(s) <= 1:\n",
    "        return True\n",
    "    # Recursive case: check if the first and last characters are the same\n",
    "    elif s[0] == s[-1]:\n",
    "        # Recursive call to check if the substring excluding the first and last characters is a palindrome\n",
    "        return is_palindrome(s[1:-1])\n",
    "    else:\n",
    "        return False\n",
    "\n",
    "# Example usage\n",
    "input_string = \"radar\"\n",
    "result = is_palindrome(input_string)\n",
    "print(f\"The string '{input_string}' is a palindrome: {result}\")\n"
   ]
  },
  {
   "cell_type": "code",
   "execution_count": 161,
   "id": "3338ff95-d892-44b4-8fc8-5124165a2803",
   "metadata": {
    "tags": []
   },
   "outputs": [
    {
     "name": "stdout",
     "output_type": "stream",
     "text": [
      "All combinations of [1, 2, 3]: [[1, 2, 3], [1, 2], [1, 3], [1], [2, 3], [2], [3], []]\n"
     ]
    }
   ],
   "source": [
    "#11Create a recursive Python function to generate all possible combinations of a list of elements.\n",
    "def generate_combinations(elements):\n",
    "    # Base case: if the list is empty, return an empty list\n",
    "    if not elements:\n",
    "        return [[]]\n",
    "\n",
    "    # Recursive case: generate combinations by including or excluding the first element\n",
    "    first_element = elements[0]\n",
    "    rest_of_elements = elements[1:]\n",
    "\n",
    "    # Recursive call to generate combinations without the first element\n",
    "    combinations_without_first = generate_combinations(rest_of_elements)\n",
    "\n",
    "    # Combine with the first element included and excluded\n",
    "    combinations_with_first = []\n",
    "    for combination in combinations_without_first:\n",
    "        combinations_with_first.append([first_element] + combination)\n",
    "\n",
    "    # Combine with the first element excluded\n",
    "    combinations_with_first.extend(combinations_without_first)\n",
    "\n",
    "    return combinations_with_first\n",
    "\n",
    "# Example usage\n",
    "input_elements = [1, 2, 3]\n",
    "result = generate_combinations(input_elements)\n",
    "print(f\"All combinations of {input_elements}: {result}\")\n"
   ]
  },
  {
   "cell_type": "code",
   "execution_count": null,
   "id": "1902699c-63bc-4a95-b26a-99bdcc031234",
   "metadata": {},
   "outputs": [],
   "source": [
    "#Basics of Functions:\n",
    "\n",
    "#1What is a function in Python, and why is it used?\n",
    "in Python, a function is a reusable block of code that performs a specific task or set of tasks. It is defined using the def keyword,\n",
    "followed by a name, a pair of parentheses for parameters (if any), and a colon. The body of the function is indented and contains \n",
    "the code to be executed when the function is called.\n",
    "Functions in Python serve several purposes:\n",
    "\n",
    "1.Modularity: Functions allow you to break down a program into smaller, more manageable pieces. Each function can focus on a specific task, \n",
    "making the code easier to understand, read, and maintain.\n",
    "\n",
    "2.Reusability: Once a function is defined, it can be called multiple times from different parts of the program.\n",
    "This promotes code reuse and reduces redundancy.\n",
    "\n",
    "3.Abstraction: Functions provide a level of abstraction. Instead of worrying about the implementation details, \n",
    "a programmer can use a function by knowing what it does and what parameters it requires.\n",
    "\n",
    "4.Encapsulation: Functions encapsulate a set of instructions, and the internal details of the function are hidden from the outside.\n",
    "This makes the code more organized and prevents unintended interference.\n",
    "\n",
    "5.Parameterization: Functions can take parameters (input values) and return results. This allows the same function to be applied to\n",
    "different data, promoting flexibility.\n"
   ]
  },
  {
   "cell_type": "code",
   "execution_count": null,
   "id": "a4d21b4b-27a3-44cc-a093-966c7bf7657d",
   "metadata": {},
   "outputs": [],
   "source": [
    "#2How do you define a function in Python? Provide an example.\n",
    "In Python, you can define a function using the def keyword, followed by the function name, a pair of parentheses for parameters (if any),\n",
    "a colon, and the indented code block that makes up the function body. \n"
   ]
  },
  {
   "cell_type": "code",
   "execution_count": 162,
   "id": "7caa7c89-a6b0-4dd4-98a5-85f9f62b6e0b",
   "metadata": {
    "tags": []
   },
   "outputs": [
    {
     "name": "stdout",
     "output_type": "stream",
     "text": [
      "Sum: 8\n"
     ]
    }
   ],
   "source": [
    "def add_numbers(a, b):\n",
    "    \"\"\"This function adds two numbers.\"\"\"\n",
    "    result = a + b\n",
    "    return result\n",
    "\n",
    "# Example usage\n",
    "sum_result = add_numbers(5, 3)\n",
    "print(\"Sum:\", sum_result)\n"
   ]
  },
  {
   "cell_type": "code",
   "execution_count": null,
   "id": "9219c19a-6df8-4966-93de-18b85019fee1",
   "metadata": {},
   "outputs": [],
   "source": [
    "#3Explain the difference between a function definition and a function call.\n",
    "The terms \"function definition\" and \"function call\" refer to different aspects of using functions in programming. Let's clarify each term:\n",
    "\n",
    "Function Definition:\n",
    "\n",
    "Purpose: A function definition is the actual implementation of a function. It defines what the function does, its name, parameters (if any), \n",
    "and the code that gets executed when the function is called."
   ]
  },
  {
   "cell_type": "code",
   "execution_count": null,
   "id": "fb6f1e87-d29e-4d2d-88ed-1a2bf4d7c629",
   "metadata": {},
   "outputs": [],
   "source": [
    "Function Call:\n",
    "\n",
    "Purpose: A function call is the actual execution of a function. It invokes the defined function with specific arguments, if required, and returns\n",
    "the result (if the function has a return statement)."
   ]
  },
  {
   "cell_type": "code",
   "execution_count": 163,
   "id": "55af4a68-70f6-4db1-bf1d-5afc46655bdd",
   "metadata": {
    "tags": []
   },
   "outputs": [
    {
     "name": "stdout",
     "output_type": "stream",
     "text": [
      "The sum of 5 and 3 is: 8\n"
     ]
    }
   ],
   "source": [
    "#4Write a Python program that defines a function to calculate the sum of two numbers and then calls the function\n",
    "# Function definition\n",
    "def calculate_sum(a, b):\n",
    "    \"\"\"This function calculates the sum of two numbers.\"\"\"\n",
    "    result = a + b\n",
    "    return result\n",
    "\n",
    "# Function call\n",
    "num1 = 5\n",
    "num2 = 3\n",
    "sum_result = calculate_sum(num1, num2)\n",
    "\n",
    "# Display the result\n",
    "print(f\"The sum of {num1} and {num2} is: {sum_result}\")\n"
   ]
  },
  {
   "cell_type": "code",
   "execution_count": null,
   "id": "d043828a-e283-4756-9f38-4d967686c30b",
   "metadata": {},
   "outputs": [],
   "source": [
    "#5What is a function signature, and what information does it typically include?\n",
    "A function signature is a concise summary of a function's essential information, usually presented in a declaration or documentation.\n",
    "It provides an overview of the function's characteristics without detailing its implementation. The function signature \n",
    "typically includes the following information:\n",
    "\n",
    "Function Name:\n",
    "\n",
    "The name by which the function can be called.\n",
    "Example: calculate_sum\n",
    "Parameters:\n",
    "\n",
    "The input values that the function expects.\n",
    "It includes the names and data types of the parameters.\n",
    "Example: (a: int, b: int)\n",
    "Return Type:\n",
    "\n",
    "The data type of the value that the function returns.\n",
    "Example: -> int\n",
    "Exception/Error Handling (Optional):\n",
    "\n",
    "Any exceptions or errors that the function might raise.\n",
    "Example: Raises ValueError if the input is not numeric.\n",
    "Documentation/Docstring:\n",
    "\n",
    "A brief description or documentation string that explains the purpose and usage of the function."
   ]
  },
  {
   "cell_type": "code",
   "execution_count": 166,
   "id": "73d7e6f6-4859-4971-a03f-a9851b4fd204",
   "metadata": {
    "tags": []
   },
   "outputs": [
    {
     "name": "stdout",
     "output_type": "stream",
     "text": [
      "The product of 4 and 7 is: 28\n"
     ]
    }
   ],
   "source": [
    "#6Create a Python function that takes two arguments and returns their product.\n",
    "def calculate_product(a, b):\n",
    "    \"\"\"This function calculates the product of two numbers.\"\"\"\n",
    "    result = a * b\n",
    "    return result\n",
    "\n",
    "# Example usage\n",
    "num1 = 4\n",
    "num2 = 7\n",
    "product_result = calculate_product(num1, num2)\n",
    "\n",
    "# Display the result\n",
    "print(f\"The product of {num1} and {num2} is: {product_result}\")\n",
    "\n"
   ]
  },
  {
   "cell_type": "code",
   "execution_count": null,
   "id": "4ba4e656-06f7-4499-82e7-6468a3577071",
   "metadata": {},
   "outputs": [],
   "source": [
    "#Function Parameters and Arguments:\n",
    "\n",
    "#1Explain the concepts of formal parameters and actual arguments in Python functions.\n",
    "In Python functions, the terms \"formal parameters\" and \"actual arguments\" refer to the variables used in the function definition and the \n",
    "values or expressions passed to the function during a function call, respectively. Let's dive into each concept:\n",
    "\n",
    "Formal Parameters:\n",
    "\n",
    "Definition: Formal parameters are the names used in the function definition to represent the values that the function expects to receive when it is called.\n",
    "Location: Formal parameters are included in the function signature within the parentheses.\n",
    "\n",
    "Actual Arguments:\n",
    "\n",
    "Definition: Actual arguments (or arguments) are the values or expressions supplied to a function during a function call. \n",
    "These are the real data that the function operates on.\n",
    "Location: Actual arguments are passed inside the parentheses when calling a function."
   ]
  },
  {
   "cell_type": "code",
   "execution_count": 167,
   "id": "e404539c-54e5-4c72-81dc-9dfe732e3ea1",
   "metadata": {
    "tags": []
   },
   "outputs": [
    {
     "name": "stdout",
     "output_type": "stream",
     "text": [
      "Hello, Alice!\n",
      "Hola, Bob!\n"
     ]
    }
   ],
   "source": [
    "#2Write a Python program that defines a function with default argument values.\n",
    "def greet(name, greeting=\"Hello\"):\n",
    "    \"\"\"This function greets a person with an optional custom greeting.\"\"\"\n",
    "    full_greeting = f\"{greeting}, {name}!\"\n",
    "    return full_greeting\n",
    "\n",
    "# Example usage\n",
    "name1 = \"Alice\"\n",
    "greeting1 = greet(name1)\n",
    "print(greeting1)\n",
    "\n",
    "name2 = \"Bob\"\n",
    "custom_greeting = \"Hola\"\n",
    "greeting2 = greet(name2, custom_greeting)\n",
    "print(greeting2)\n",
    "\n",
    "\n"
   ]
  },
  {
   "cell_type": "code",
   "execution_count": null,
   "id": "9c0a4650-af80-4473-89fc-4abb7c107697",
   "metadata": {},
   "outputs": [],
   "source": [
    "#3 How do you use keyword arguments in Python function calls? Provide an example.\n",
    "In Python, you can use keyword arguments in function calls to specify values for parameters by explicitly mentioning the\n",
    "parameter names along with the corresponding values. This allows you to pass arguments in any order and is especially\n",
    "useful when a function has a large number of parameters.\n",
    "\n"
   ]
  },
  {
   "cell_type": "code",
   "execution_count": 168,
   "id": "caf1f2f3-17ef-423a-9e14-a8e00d6d9743",
   "metadata": {
    "tags": []
   },
   "outputs": [
    {
     "name": "stdout",
     "output_type": "stream",
     "text": [
      "Name: Alice\n",
      "Age: 25\n",
      "City: Wonderland\n",
      "Name: Bob\n",
      "Age: 30\n",
      "City: Bobville\n"
     ]
    }
   ],
   "source": [
    "def print_info(name, age, city):\n",
    "    \"\"\"This function prints information about a person.\"\"\"\n",
    "    print(f\"Name: {name}\")\n",
    "    print(f\"Age: {age}\")\n",
    "    print(f\"City: {city}\")\n",
    "\n",
    "# Using keyword arguments to call the function\n",
    "print_info(name=\"Alice\", age=25, city=\"Wonderland\")\n",
    "\n",
    "# Another example with a different order of arguments\n",
    "print_info(city=\"Bobville\", age=30, name=\"Bob\")\n"
   ]
  },
  {
   "cell_type": "code",
   "execution_count": 169,
   "id": "886dda39-5c42-40c8-85c0-76227c574b62",
   "metadata": {
    "tags": []
   },
   "outputs": [
    {
     "name": "stdout",
     "output_type": "stream",
     "text": [
      "Sum of numbers 1, 2, 3, 4: 10\n",
      "Sum of numbers 5, 10, 15, 20, 25: 75\n"
     ]
    }
   ],
   "source": [
    "#4Create a Python function that accepts a variable number of arguments and calculates their sum.\n",
    "def calculate_sum(*args):\n",
    "    \"\"\"This function calculates the sum of variable arguments.\"\"\"\n",
    "    total_sum = sum(args)\n",
    "    return total_sum\n",
    "\n",
    "# Example usage\n",
    "result1 = calculate_sum(1, 2, 3, 4)\n",
    "result2 = calculate_sum(5, 10, 15, 20, 25)\n",
    "\n",
    "# Display the results\n",
    "print(f\"Sum of numbers 1, 2, 3, 4: {result1}\")\n",
    "print(f\"Sum of numbers 5, 10, 15, 20, 25: {result2}\")\n"
   ]
  },
  {
   "cell_type": "code",
   "execution_count": null,
   "id": "47c9bf5f-abce-424f-a9df-9efddc1fd6fa",
   "metadata": {},
   "outputs": [],
   "source": [
    "#5 What is the purpose of the `*args` and `**kwargs` syntax in function parameter lists?\n",
    "The *args and **kwargs syntax in function parameter lists in Python are used to handle a variable number of arguments, \n",
    "providing flexibility and versatility in function definitions. They allow functions to accept an arbitrary number of\n",
    "positional and keyword arguments, respectively.\n",
    "\n",
    "*args (Arbitrary Positional Arguments):\n",
    "\n",
    "Purpose: The *args syntax allows a function to accept a variable number of positional arguments. It collects these arguments into a tuple.\n",
    "\n",
    "\n",
    "**kwargs (Arbitrary Keyword Arguments):\n",
    "\n",
    "Purpose: The **kwargs syntax allows a function to accept a variable number of keyword arguments. It collects these arguments into a dictionary.\n"
   ]
  },
  {
   "cell_type": "code",
   "execution_count": 171,
   "id": "7008b37c-a7ca-4b54-b1fb-daf09af0f7cd",
   "metadata": {
    "tags": []
   },
   "outputs": [
    {
     "name": "stdout",
     "output_type": "stream",
     "text": [
      "name: Alice\n",
      "age: 25\n",
      "city: Wonderland\n"
     ]
    }
   ],
   "source": [
    "def example_function(**kwargs):\n",
    "    # 'kwargs' is a dictionary containing all the keyword arguments\n",
    "    for key, value in kwargs.items():\n",
    "        print(f\"{key}: {value}\")\n",
    "example_function(name=\"Alice\", age=25, city=\"Wonderland\")\n"
   ]
  },
  {
   "cell_type": "code",
   "execution_count": 172,
   "id": "381149ab-bc8a-42ae-a8ed-b72ea2c29164",
   "metadata": {
    "tags": []
   },
   "outputs": [
    {
     "name": "stdout",
     "output_type": "stream",
     "text": [
      "1\n",
      "2\n",
      "3\n"
     ]
    }
   ],
   "source": [
    "def example_function(*args):\n",
    "    # 'args' is a tuple containing all the positional arguments\n",
    "    for arg in args:\n",
    "        print(arg)\n",
    "example_function(1, 2, 3)\n"
   ]
  },
  {
   "cell_type": "code",
   "execution_count": null,
   "id": "7d7d59f1-a470-4584-9308-1942f6d13d1b",
   "metadata": {},
   "outputs": [],
   "source": [
    "Return Values and Scoping:\n",
    "\n",
    "1.Describe the role of the `return` statement in Python functions and provide examples.\n",
    "The return statement in Python functions is used to specify the value(s) that the function should output or return when it is\n",
    "called. When a function encounters a return statement, it immediately exits, and the specified value is passed back to the caller.\n",
    "\n",
    "Here are some key points about the return statement:\n",
    "\n",
    "Returning Single Value:\n",
    "\n",
    "You can use return to send back a single value from the function.\n",
    "\n",
    "\n"
   ]
  },
  {
   "cell_type": "code",
   "execution_count": 173,
   "id": "d6f321aa-9470-4652-92b5-c3182cec5523",
   "metadata": {
    "tags": []
   },
   "outputs": [
    {
     "name": "stdout",
     "output_type": "stream",
     "text": [
      "25\n"
     ]
    }
   ],
   "source": [
    "def square(x):\n",
    "    return x ** 2\n",
    "\n",
    "result = square(5)\n",
    "print(result)  # Output: 25\n"
   ]
  },
  {
   "cell_type": "code",
   "execution_count": 174,
   "id": "8bce628b-87f6-4afd-ac80-cc92fbda25bb",
   "metadata": {
    "tags": []
   },
   "outputs": [
    {
     "name": "stdout",
     "output_type": "stream",
     "text": [
      "Sum: 7, Product: 12\n"
     ]
    }
   ],
   "source": [
    "#Returning Multiple Values:\n",
    "\n",
    "#A function can return multiple values as a tuple using return.\n",
    "def add_and_multiply(a, b):\n",
    "    sum_result = a + b\n",
    "    product_result = a * b\n",
    "    return sum_result, product_result\n",
    "\n",
    "sum_result, product_result = add_and_multiply(3, 4)\n",
    "print(f\"Sum: {sum_result}, Product: {product_result}\")\n"
   ]
  },
  {
   "cell_type": "code",
   "execution_count": 175,
   "id": "1d579b8f-4925-4622-8261-9c228003202f",
   "metadata": {
    "tags": []
   },
   "outputs": [
    {
     "name": "stdout",
     "output_type": "stream",
     "text": [
      "4.0\n"
     ]
    }
   ],
   "source": [
    "#Returning Early (Exiting the Function):\n",
    "\n",
    "#The return statement is often used to exit a function prematurely if a certain condition is met.\n",
    "def divide(a, b):\n",
    "    if b == 0:\n",
    "        print(\"Cannot divide by zero.\")\n",
    "        return  # Exit the function\n",
    "    return a / b\n",
    "\n",
    "result = divide(8, 2)\n",
    "print(result)  # Output: 4.0\n"
   ]
  },
  {
   "cell_type": "code",
   "execution_count": 176,
   "id": "5a168f46-8b9c-4338-8a68-62188a4625f3",
   "metadata": {
    "tags": []
   },
   "outputs": [
    {
     "name": "stdout",
     "output_type": "stream",
     "text": [
      "Doing something\n",
      "None\n"
     ]
    }
   ],
   "source": [
    "#No Explicit Return (Implicit None):\n",
    "\n",
    "#If a function does not have a return statement, it implicitly returns None.\n",
    "def do_something():\n",
    "    print(\"Doing something\")\n",
    "\n",
    "result = do_something()\n",
    "print(result)  # Output: None\n"
   ]
  },
  {
   "cell_type": "code",
   "execution_count": 177,
   "id": "43d28bac-c91d-41b6-b150-034f72ea3631",
   "metadata": {
    "tags": []
   },
   "outputs": [
    {
     "name": "stdout",
     "output_type": "stream",
     "text": [
      "Negative\n"
     ]
    }
   ],
   "source": [
    "#Returning Early with Value:\n",
    "\n",
    "#You can use return to exit a function early and return a specific value\n",
    "def check_negative(x):\n",
    "    if x < 0:\n",
    "        return \"Negative\"\n",
    "    return \"Non-negative\"\n",
    "\n",
    "result = check_negative(-3)\n",
    "print(result)  # Output: Negative\n"
   ]
  },
  {
   "cell_type": "code",
   "execution_count": null,
   "id": "9f007eaa-4af8-46fc-8d55-a40f7bde7c9a",
   "metadata": {},
   "outputs": [],
   "source": [
    "#2Explain the concept of variable scope in Python, including local and global variables.\n",
    "ariable scope in Python refers to the region or context of the program where a particular variable can be accessed\n",
    "or modified. The scope of a variable is determined by where it is defined, and it plays a crucial role in understanding\n",
    "how variables are used and manipulated within a program. In Python, there are primarily two types of variable scope: local scope and global scope.\n",
    "\n",
    "Local Scope:\n",
    "\n",
    "Definition: Variables defined within a function have a local scope. They are only accessible within the function where they are defined."
   ]
  },
  {
   "cell_type": "code",
   "execution_count": 178,
   "id": "68d74be0-696e-4198-9128-6ee934192f16",
   "metadata": {
    "tags": []
   },
   "outputs": [
    {
     "name": "stdout",
     "output_type": "stream",
     "text": [
      "I am local\n"
     ]
    }
   ],
   "source": [
    "def my_function():\n",
    "    local_variable = \"I am local\"\n",
    "    print(local_variable)\n",
    "\n",
    "my_function()\n",
    "# print(local_variable)  # This would result in an error\n"
   ]
  },
  {
   "cell_type": "code",
   "execution_count": null,
   "id": "ba0d17c5-69ae-4b1c-9527-f0ad21d6eba0",
   "metadata": {},
   "outputs": [],
   "source": [
    "Global Scope:\n",
    "\n",
    "Definition: Variables defined outside any function or at the top level of a script have a global scope. \n",
    "They can be accessed from any part of the program, including functions."
   ]
  },
  {
   "cell_type": "code",
   "execution_count": 179,
   "id": "252eea89-9fa8-4b0c-b916-141b4b528f66",
   "metadata": {
    "tags": []
   },
   "outputs": [
    {
     "name": "stdout",
     "output_type": "stream",
     "text": [
      "I am global\n",
      "I am global\n"
     ]
    }
   ],
   "source": [
    "global_variable = \"I am global\"\n",
    "\n",
    "def another_function():\n",
    "    print(global_variable)\n",
    "\n",
    "another_function()\n",
    "print(global_variable)\n"
   ]
  },
  {
   "cell_type": "code",
   "execution_count": null,
   "id": "91ed38ab-c3d6-46e3-afb8-08adf2b5cf2f",
   "metadata": {},
   "outputs": [],
   "source": [
    "Variable Shadowing:\n",
    "\n",
    "Definition: If a variable with the same name is defined within a function and in the global scope, the local variable \n",
    "\"shadows\" the global one within that function."
   ]
  },
  {
   "cell_type": "code",
   "execution_count": 180,
   "id": "3cd53abb-40cc-4ccc-8836-1c2792830ed2",
   "metadata": {
    "tags": []
   },
   "outputs": [
    {
     "name": "stdout",
     "output_type": "stream",
     "text": [
      "5\n",
      "10\n"
     ]
    }
   ],
   "source": [
    "x = 10  # Global variable\n",
    "\n",
    "def shadowing_example():\n",
    "    x = 5  # Local variable with the same name\n",
    "    print(x)  # This prints the local variable\n",
    "\n",
    "shadowing_example()\n",
    "print(x)  # This prints the global variable\n"
   ]
  },
  {
   "cell_type": "code",
   "execution_count": 181,
   "id": "c8f25f95-b56c-4c94-9b9e-0f2beafc27cc",
   "metadata": {
    "tags": []
   },
   "outputs": [
    {
     "name": "stdout",
     "output_type": "stream",
     "text": [
      "Before modification: I am global\n",
      "Inside the function: I am global\n",
      "After modification: I have been modified\n"
     ]
    }
   ],
   "source": [
    "#3Write a Python program that demonstrates the use of global variables within functions.\n",
    "# Global variable\n",
    "global_variable = \"I am global\"\n",
    "\n",
    "def print_global():\n",
    "    # Accessing the global variable within the function\n",
    "    print(\"Inside the function:\", global_variable)\n",
    "\n",
    "def modify_global():\n",
    "    # Modifying the global variable within the function\n",
    "    global global_variable\n",
    "    global_variable = \"I have been modified\"\n",
    "\n",
    "# Initial value of the global variable\n",
    "print(\"Before modification:\", global_variable)\n",
    "\n",
    "# Calling the function to print the global variable\n",
    "print_global()\n",
    "\n",
    "# Calling the function to modify the global variable\n",
    "modify_global()\n",
    "\n",
    "# Value of the global variable after modification\n",
    "print(\"After modification:\", global_variable)\n"
   ]
  },
  {
   "cell_type": "code",
   "execution_count": 182,
   "id": "bd9c0a3d-9b12-4196-a6cc-4666c9e5e863",
   "metadata": {
    "tags": []
   },
   "outputs": [
    {
     "name": "stdout",
     "output_type": "stream",
     "text": [
      "The factorial of 5 is: 120\n"
     ]
    }
   ],
   "source": [
    "#4Create a Python function that calculates the factorial of a number and returns it.\n",
    "def calculate_factorial(n):\n",
    "    \"\"\"This function calculates the factorial of a number.\"\"\"\n",
    "    if n < 0:\n",
    "        return \"Factorial is not defined for negative numbers\"\n",
    "    elif n == 0 or n == 1:\n",
    "        return 1\n",
    "    else:\n",
    "        factorial_result = 1\n",
    "        for i in range(2, n + 1):\n",
    "            factorial_result *= i\n",
    "        return factorial_result\n",
    "\n",
    "# Example usage\n",
    "number = 5\n",
    "factorial_result = calculate_factorial(number)\n",
    "\n",
    "# Display the result\n",
    "print(f\"The factorial of {number} is: {factorial_result}\")\n"
   ]
  },
  {
   "cell_type": "code",
   "execution_count": 183,
   "id": "47a27441-1a6a-44f2-b6b0-6d090999f7b3",
   "metadata": {
    "tags": []
   },
   "outputs": [
    {
     "name": "stdout",
     "output_type": "stream",
     "text": [
      "Inside the function: I am global\n",
      "Outside the function: I am global\n"
     ]
    }
   ],
   "source": [
    "#5how can you access variables defined outside a function from within the function?\n",
    "# Global variable\n",
    "global_variable = \"I am global\"\n",
    "\n",
    "def access_global_variable():\n",
    "    # Accessing the global variable within the function\n",
    "    print(\"Inside the function:\", global_variable)\n",
    "\n",
    "# Calling the function\n",
    "access_global_variable()\n",
    "\n",
    "# Accessing the global variable outside the function\n",
    "print(\"Outside the function:\", global_variable)\n",
    "\n",
    "\n"
   ]
  },
  {
   "cell_type": "code",
   "execution_count": 184,
   "id": "9286f07c-02d7-4b38-ba5d-dc053369c69b",
   "metadata": {
    "tags": []
   },
   "outputs": [
    {
     "name": "stdout",
     "output_type": "stream",
     "text": [
      "Before modification: I am global\n",
      "After modification: I have been modified\n"
     ]
    }
   ],
   "source": [
    "# Global variable\n",
    "global_variable = \"I am global\"\n",
    "\n",
    "def modify_global_variable():\n",
    "    # Modifying the global variable within the function\n",
    "    global global_variable\n",
    "    global_variable = \"I have been modified\"\n",
    "\n",
    "# Initial value of the global variable\n",
    "print(\"Before modification:\", global_variable)\n",
    "\n",
    "# Calling the function to modify the global variable\n",
    "modify_global_variable()\n",
    "\n",
    "# Value of the global variable after modification\n",
    "print(\"After modification:\", global_variable)\n"
   ]
  },
  {
   "cell_type": "code",
   "execution_count": null,
   "id": "2757ae0f-813d-4887-bd9f-64552f9ce5a9",
   "metadata": {},
   "outputs": [],
   "source": [
    "Lambda Functions and Higher-Order Functions:\n",
    "\n",
    "1What are lambda functions in Python, and when are they typically used?\n",
    "Lambda functions, also known as anonymous functions, are a concise way to create small, unnamed functions in Python. \n",
    "They are defined using the lambda keyword, and they can take\n",
    "any number of arguments but can only have a single expression\n",
    "Lambda functions are typically used in situations where a small, short-lived function is needed for a \n",
    "short period and defining a full function using the def keyword seems unnecessary. They are often employed in conjunction with higher-order functions,\n",
    "such as map(), filter(), and reduce(), to perform operations on sequences of data.\n"
   ]
  },
  {
   "cell_type": "code",
   "execution_count": 186,
   "id": "7e0e405d-b150-418a-88b9-16b61e0468da",
   "metadata": {
    "tags": []
   },
   "outputs": [
    {
     "name": "stdout",
     "output_type": "stream",
     "text": [
      "Original List: [(1, 5), (3, 2), (2, 8), (4, 1), (5, 3)]\n",
      "Sorted List based on the second element: [(4, 1), (3, 2), (5, 3), (1, 5), (2, 8)]\n"
     ]
    }
   ],
   "source": [
    "#2Write a Python program that uses lambda functions to sort a list of tuples based on the second element.\n",
    "# List of tuples\n",
    "tuple_list = [(1, 5), (3, 2), (2, 8), (4, 1), (5, 3)]\n",
    "\n",
    "# Sorting the list based on the second element of each tuple\n",
    "sorted_list = sorted(tuple_list, key=lambda x: x[1])\n",
    "\n",
    "# Display the sorted list\n",
    "print(\"Original List:\", tuple_list)\n",
    "print(\"Sorted List based on the second element:\", sorted_list)\n"
   ]
  },
  {
   "cell_type": "code",
   "execution_count": null,
   "id": "f835767b-f90d-4b4b-8fd2-ec7a05bba049",
   "metadata": {},
   "outputs": [],
   "source": [
    "#3explain the concept of higher-order functions in Python, and provide an example.\n",
    "In Python, a higher-order function is a function that takes one or more functions as arguments and/or returns a function\n",
    "as its result. Essentially, it treats functions as first-class citizens, allowing them to be used as parameters or return values, just like any other data type.\n",
    "\n",
    "Here's a breakdown of the concept of higher-order functions:\n",
    "\n",
    "Functions as Parameters:\n",
    "\n",
    "A higher-order function can accept other functions as parameters. This allows you to pass behavior to a function,\n",
    "making it more flexible and customizable."
   ]
  },
  {
   "cell_type": "code",
   "execution_count": 187,
   "id": "73f6823a-cddf-456a-ac7f-db341ca85385",
   "metadata": {
    "tags": []
   },
   "outputs": [
    {
     "name": "stdout",
     "output_type": "stream",
     "text": [
      "Addition Result: 7\n",
      "Multiplication Result: 12\n"
     ]
    }
   ],
   "source": [
    "def apply_operation(operation, x, y):\n",
    "    return operation(x, y)\n",
    "\n",
    "def add(x, y):\n",
    "    return x + y\n",
    "\n",
    "def multiply(x, y):\n",
    "    return x * y\n",
    "\n",
    "result_add = apply_operation(add, 3, 4)\n",
    "result_multiply = apply_operation(multiply, 3, 4)\n",
    "\n",
    "print(\"Addition Result:\", result_add)          # Output: 7\n",
    "print(\"Multiplication Result:\", result_multiply)  # Output: 12\n"
   ]
  },
  {
   "cell_type": "code",
   "execution_count": null,
   "id": "62f54869-7c1c-4b6f-a8d9-1dd674b7d98e",
   "metadata": {},
   "outputs": [],
   "source": [
    "Functions as Return Values:\n",
    "\n",
    "A higher-order function can return another function. This is useful when you want to create and return a new\n",
    "function based on certain conditions or configurations."
   ]
  },
  {
   "cell_type": "code",
   "execution_count": 188,
   "id": "78332379-2c50-4dd2-a7a6-22f426444c95",
   "metadata": {
    "tags": []
   },
   "outputs": [
    {
     "name": "stdout",
     "output_type": "stream",
     "text": [
      "Multiply by 2: 10\n",
      "Multiply by 3: 15\n"
     ]
    }
   ],
   "source": [
    "def get_multiplier(factor):\n",
    "    def multiplier(x):\n",
    "        return x * factor\n",
    "    return multiplier\n",
    "\n",
    "multiply_by_2 = get_multiplier(2)\n",
    "multiply_by_3 = get_multiplier(3)\n",
    "\n",
    "print(\"Multiply by 2:\", multiply_by_2(5))  # Output: 10\n",
    "print(\"Multiply by 3:\", multiply_by_3(5))  # Output: 15\n"
   ]
  },
  {
   "cell_type": "code",
   "execution_count": null,
   "id": "8c2680f0-77a4-4ab5-85e5-d94364f72c66",
   "metadata": {},
   "outputs": [],
   "source": [
    "Functions as Data:\n",
    "\n",
    "In Python, functions are first-class citizens, meaning they can be assigned to variables, stored in data structures, and passed as arguments to other functions."
   ]
  },
  {
   "cell_type": "code",
   "execution_count": 189,
   "id": "0fee953c-9bce-4190-8c41-8bae860b0919",
   "metadata": {
    "tags": []
   },
   "outputs": [
    {
     "name": "stdout",
     "output_type": "stream",
     "text": [
      "Square of 4: 16\n",
      "Cube of 3: 27\n"
     ]
    }
   ],
   "source": [
    "def square(x):\n",
    "    return x ** 2\n",
    "\n",
    "def cube(x):\n",
    "    return x ** 3\n",
    "\n",
    "# Functions assigned to variables\n",
    "func1 = square\n",
    "func2 = cube\n",
    "\n",
    "print(\"Square of 4:\", func1(4))  # Output: 16\n",
    "print(\"Cube of 3:\", func2(3))    # Output: 27\n"
   ]
  },
  {
   "cell_type": "code",
   "execution_count": 190,
   "id": "968fc28a-1760-4a61-8268-b1ff109d3d69",
   "metadata": {
    "tags": []
   },
   "outputs": [
    {
     "name": "stdout",
     "output_type": "stream",
     "text": [
      "Original List: [1, 2, 3, 4, 5]\n",
      "Squared List: [1, 4, 9, 16, 25]\n",
      "Doubled List: [2, 4, 6, 8, 10]\n"
     ]
    }
   ],
   "source": [
    "#4Create a Python function that takes a list of numbers and a function as arguments, applying the function to each element in the list.\n",
    "def apply_function_to_list(numbers, custom_function):\n",
    "    \"\"\"Applies a given function to each element in the list.\"\"\"\n",
    "    result = [custom_function(num) for num in numbers]\n",
    "    return result\n",
    "\n",
    "# Example usage\n",
    "numbers_list = [1, 2, 3, 4, 5]\n",
    "\n",
    "# Function to square a number\n",
    "def square(x):\n",
    "    return x ** 2\n",
    "\n",
    "# Applying the square function to each element in the list\n",
    "result_square = apply_function_to_list(numbers_list, square)\n",
    "print(\"Original List:\", numbers_list)\n",
    "print(\"Squared List:\", result_square)\n",
    "\n",
    "# Function to double a number\n",
    "def double(x):\n",
    "    return 2 * x\n",
    "\n",
    "# Applying the double function to each element in the list\n",
    "result_double = apply_function_to_list(numbers_list, double)\n",
    "print(\"Doubled List:\", result_double)\n"
   ]
  },
  {
   "cell_type": "code",
   "execution_count": 191,
   "id": "2e567c14-4834-44ea-ab8b-16461bbabe03",
   "metadata": {
    "tags": []
   },
   "outputs": [
    {
     "name": "stdout",
     "output_type": "stream",
     "text": [
      "Length of the list: 5\n"
     ]
    }
   ],
   "source": [
    "#Built-in Functions:\n",
    "\n",
    "#1.Describe the role of built-in functions like `len()`, `max()`, and `min()` in Python\n",
    "#len() Function:\n",
    "\n",
    "#Role: The len() function is used to determine the length or the number of items in an iterable, such as a string, list, tuple, or dictionary.\n",
    "#Example:\n",
    "\n",
    "my_list = [1, 2, 3, 4, 5]\n",
    "length_of_list = len(my_list)\n",
    "print(\"Length of the list:\", length_of_list) \n"
   ]
  },
  {
   "cell_type": "code",
   "execution_count": 192,
   "id": "4c9271a1-2d09-4251-8b64-bec7734c9f03",
   "metadata": {
    "tags": []
   },
   "outputs": [
    {
     "name": "stdout",
     "output_type": "stream",
     "text": [
      "Maximum value: 9\n",
      "Minimum value: 1\n"
     ]
    }
   ],
   "source": [
    "#max() and min() Functions:\n",
    "\n",
    "#Role: The max() function returns the maximum value in an iterable, and the min() function returns the minimum value.\n",
    "#Example:\n",
    "\n",
    "numbers = [3, 1, 4, 1, 5, 9, 2, 6, 5, 3]\n",
    "max_value = max(numbers)\n",
    "min_value = min(numbers)\n",
    "print(\"Maximum value:\", max_value)  # Output: 9\n",
    "print(\"Minimum value:\", min_value)  "
   ]
  },
  {
   "cell_type": "code",
   "execution_count": 193,
   "id": "5f05ddd5-d94e-41d6-b7db-71dffcfb149f",
   "metadata": {
    "tags": []
   },
   "outputs": [
    {
     "name": "stdout",
     "output_type": "stream",
     "text": [
      "Sum of numbers: 15\n"
     ]
    }
   ],
   "source": [
    "#Other Built-in Functions:\n",
    "\n",
    "#sum() Function:\n",
    "\n",
    "#Role: The sum() function calculates the sum of all items in an iterable.\n",
    "#example:\n",
    "\n",
    "numbers = [1, 2, 3, 4, 5]\n",
    "sum_of_numbers = sum(numbers)\n",
    "print(\"Sum of numbers:\", sum_of_numbers) "
   ]
  },
  {
   "cell_type": "code",
   "execution_count": 194,
   "id": "0bf879d0-029d-40e3-b46b-c36f544aefca",
   "metadata": {
    "tags": []
   },
   "outputs": [
    {
     "name": "stdout",
     "output_type": "stream",
     "text": [
      "Sorted list: [1, 2, 4, 5, 7]\n"
     ]
    }
   ],
   "source": [
    "#sorted() Function:\n",
    "\n",
    "#Role: The sorted() function returns a new sorted list from the elements of any iterable.\n",
    "#Example:\n",
    "\n",
    "my_list = [4, 2, 7, 1, 5]\n",
    "sorted_list = sorted(my_list)\n",
    "print(\"Sorted list:\", sorted_list)"
   ]
  },
  {
   "cell_type": "code",
   "execution_count": 195,
   "id": "03182ca9-e5d5-4d54-94cd-e34ab02edd4a",
   "metadata": {
    "tags": []
   },
   "outputs": [
    {
     "name": "stdout",
     "output_type": "stream",
     "text": [
      "Absolute value: 7\n"
     ]
    }
   ],
   "source": [
    "#abs() Function:\n",
    "\n",
    "#Role: The abs() function returns the absolute value of a number.\n",
    "#Example:\n",
    "\n",
    "num = -7\n",
    "absolute_value = abs(num)\n",
    "print(\"Absolute value:\", absolute_value) "
   ]
  },
  {
   "cell_type": "code",
   "execution_count": 196,
   "id": "5266c47b-315f-4cf9-a6d3-1d406f2166bc",
   "metadata": {
    "tags": []
   },
   "outputs": [
    {
     "name": "stdout",
     "output_type": "stream",
     "text": [
      "Original List: [1, 2, 3, 4, 5]\n",
      "Squared List: [1, 4, 9, 16, 25]\n"
     ]
    }
   ],
   "source": [
    "#2Write a Python program that uses the `map()` function to apply a function to each element of a list.\n",
    "# Function to square a number\n",
    "def square(x):\n",
    "    return x ** 2\n",
    "\n",
    "# List of numbers\n",
    "numbers = [1, 2, 3, 4, 5]\n",
    "\n",
    "# Using map() to apply the square function to each element in the list\n",
    "squared_numbers = map(square, numbers)\n",
    "\n",
    "# Converting the result to a list for display\n",
    "squared_numbers_list = list(squared_numbers)\n",
    "\n",
    "# Displaying the original and squared lists\n",
    "print(\"Original List:\", numbers)\n",
    "print(\"Squared List:\", squared_numbers_list)\n"
   ]
  },
  {
   "cell_type": "code",
   "execution_count": null,
   "id": "6232a2d6-2ebe-45be-8e53-182e2f774304",
   "metadata": {},
   "outputs": [],
   "source": [
    "#3 How does the `filter()` function work in Python, and when would you use it?\n",
    "the filter() function in Python is a built-in function that is used to filter elements from an iterable\n",
    "(such as a list) based on a specified condition. It returns an iterator\n",
    "containing only the elements for which the condition is true.\n",
    "\n"
   ]
  },
  {
   "cell_type": "code",
   "execution_count": 197,
   "id": "d5d8ff3d-e64d-48ec-bc53-4d9190e9b7b2",
   "metadata": {
    "tags": []
   },
   "outputs": [
    {
     "name": "stdout",
     "output_type": "stream",
     "text": [
      "Original List: [1, 2, 3, 4, 5, 6, 7, 8, 9, 10]\n",
      "Even Numbers List: [2, 4, 6, 8, 10]\n"
     ]
    }
   ],
   "source": [
    "# Function to check if a number is even\n",
    "def is_even(num):\n",
    "    return num % 2 == 0\n",
    "\n",
    "# List of numbers\n",
    "numbers = [1, 2, 3, 4, 5, 6, 7, 8, 9, 10]\n",
    "\n",
    "# Using filter() to get only even numbers\n",
    "even_numbers = filter(is_even, numbers)\n",
    "\n",
    "# Converting the result to a list for display\n",
    "even_numbers_list = list(even_numbers)\n",
    "\n",
    "# Displaying the original and filtered lists\n",
    "print(\"Original List:\", numbers)\n",
    "print(\"Even Numbers List:\", even_numbers_list)\n"
   ]
  },
  {
   "cell_type": "code",
   "execution_count": 198,
   "id": "f0cf2e3b-756f-4c10-9620-e568e2350677",
   "metadata": {
    "tags": []
   },
   "outputs": [
    {
     "name": "stdout",
     "output_type": "stream",
     "text": [
      "Original List: [2, 3, 4, 5]\n",
      "Product of all elements: 120\n"
     ]
    }
   ],
   "source": [
    "#4Create a Python program that uses the `reduce()` function to find the product of all elements in a list.\n",
    "from functools import reduce\n",
    "\n",
    "# Function to multiply two numbers\n",
    "def multiply(x, y):\n",
    "    return x * y\n",
    "\n",
    "# List of numbers\n",
    "numbers = [2, 3, 4, 5]\n",
    "\n",
    "# Using reduce() to find the product of all elements in the list\n",
    "product = reduce(multiply, numbers)\n",
    "\n",
    "# Displaying the original list and the product\n",
    "print(\"Original List:\", numbers)\n",
    "print(\"Product of all elements:\", product)\n"
   ]
  },
  {
   "cell_type": "code",
   "execution_count": null,
   "id": "ee0cf3e3-8cdd-4ecc-b2ba-1f3a9681d400",
   "metadata": {},
   "outputs": [],
   "source": [
    "Function Documentation and Best Practices:\n",
    "\n",
    "1.Explain the purpose of docstrings in Python functions and how to write them.\n",
    "Docstrings in Python serve as a way to document and provide information about functions, modules, classes, or methods.\n",
    "They are essentially string literals that are placed as the first statement in a module, class, or function, and they \n",
    "are used to describe the purpose, usage, and details of the code. Properly written docstrings are valuable for code readability, \n",
    "maintainability, and for generating documentation automatically.\n"
   ]
  },
  {
   "cell_type": "code",
   "execution_count": null,
   "id": "f8aa8342-2617-4e08-9341-1647b0920318",
   "metadata": {},
   "outputs": [],
   "source": [
    "def example_function(parameter1, parameter2):\n",
    "    \"\"\"\n",
    "    Brief description of the function.\n",
    "\n",
    "    More detailed description of the function, including parameters and return values.\n",
    "\n",
    "    :param parameter1: Description of the first parameter.\n",
    "    :param parameter2: Description of the second parameter.\n",
    "    :return: Description of the return value.\n",
    "    \"\"\"\n",
    "    # Function implementation goes here\n",
    "    pass\n"
   ]
  },
  {
   "cell_type": "code",
   "execution_count": null,
   "id": "1688952d-7b45-4516-9958-d14c132b4b8f",
   "metadata": {},
   "outputs": [],
   "source": [
    "2.Describe some best practices for naming functions and variables in Python, including naming conventions and guidelines.\n",
    "Naming functions and variables in a clear and consistent manner is crucial for writing readable and maintainable Python code. Following established naming conventions and best practices enhances code comprehension and collaboration. Here are some best practices for naming functions and variables in Python:\n",
    "\n",
    "Use Descriptive Names:\n",
    "\n",
    "Choose names that clearly and concisely describe the purpose of the function or variable.\n",
    "Avoid single-letter variable names unless they represent loop counters.\n",
    "Follow PEP 8:\n",
    "\n",
    "Adhere to the guidelines outlined in PEP 8, the official Python style guide.\n",
    "Use lowercase with underscores for function and variable names (snake_case).\n",
    "Function Names:\n",
    "\n",
    "Use verbs or verb phrases for function names to convey actions or operations.\n",
    "Be consistent with function naming conventions across your codebase.\n",
    "Variable Names:\n",
    "\n",
    "Use nouns or noun phrases for variable names to represent data or objects.\n",
    "Choose meaningful names that convey the purpose of the variable.\n",
    "Avoid Single-Character Names:\n",
    "\n",
    "Avoid using single characters (except for well-known cases like loop counters).\n",
    "Exceptions may include mathematical constants (e.g., pi, e) and common iterators (e.g., i, j, k).\n",
    "Be Consistent:\n",
    "\n",
    "Maintain consistency in naming conventions throughout your code.\n",
    "If a specific naming pattern is established, stick to it.\n",
    "Use CamelCase for Classes:\n",
    "\n",
    "For class names, use CamelCase (capitalizing the first letter of each word without spaces).\n",
    "Follow PEP 8's recommendation for class names.\n",
    "Avoid Reserved Words:\n",
    "\n",
    "Avoid using Python reserved words (e.g., int, str, list) as variable or function names.\n",
    "Consider Function Length:\n",
    "\n",
    "Aim for functions that are short and focused on a single task.\n",
    "If a function becomes too long, consider breaking it into smaller, well-named functions.\n",
    "Use Intuitive Names for Booleans:\n",
    "\n",
    "When naming boolean variables, use names that make the purpose clear.\n",
    "Prefix boolean variables with \"is,\" \"has,\" or a similar verb.\n",
    "Avoid Underscores at the Start:\n",
    "\n",
    "While underscores are allowed in variable and function names, avoid starting names with underscores unless dealing with \n",
    "special cases (e.g., private or internal names)."
   ]
  },
  {
   "cell_type": "code",
   "execution_count": 201,
   "id": "03f72b5b-04ac-4e7f-a7bd-eef0267c9245",
   "metadata": {
    "tags": []
   },
   "outputs": [],
   "source": [
    "# Good examples\n",
    "def calculate_sum(a, b):\n",
    "    result = a + b\n",
    "    return result\n",
    "\n",
    "class UserProfile:\n",
    "    def __init__(self, username, email):\n",
    "        self.username = username\n",
    "        self.email = email\n",
    "\n",
    "# Bad examples\n",
    "def cs(a, b):  # Uninformative function name\n",
    "    r = a + b   # Uninformative variable name\n",
    "    return r\n",
    "\n",
    "class usr_prof:  # Non-CamelCase class name\n",
    "    def __init__(self, un, em):\n",
    "        self.un = un\n",
    "        self.em = em\n"
   ]
  }
 ],
 "metadata": {
  "kernelspec": {
   "display_name": "Python 3 (ipykernel)",
   "language": "python",
   "name": "python3"
  },
  "language_info": {
   "codemirror_mode": {
    "name": "ipython",
    "version": 3
   },
   "file_extension": ".py",
   "mimetype": "text/x-python",
   "name": "python",
   "nbconvert_exporter": "python",
   "pygments_lexer": "ipython3",
   "version": "3.11.5"
  }
 },
 "nbformat": 4,
 "nbformat_minor": 5
}
